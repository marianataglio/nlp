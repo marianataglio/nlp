{
  "nbformat": 4,
  "nbformat_minor": 0,
  "metadata": {
    "colab": {
      "provenance": []
    },
    "kernelspec": {
      "name": "python3",
      "display_name": "Python 3"
    },
    "language_info": {
      "name": "python"
    }
  },
  "cells": [
    {
      "cell_type": "markdown",
      "source": [
        "* Crear sus propios vectores con Gensim basado en lo visto en clase con otro dataset.\n",
        "\n",
        "* Probar términos de interés y explicar similitudes en el espacio de embeddings (sacar conclusiones entre palabras similitudes y diferencias).\n",
        "\n",
        "* Graficarlos.\n",
        "\n",
        "* Obtener conclusiones.\n"
      ],
      "metadata": {
        "id": "e7VqpXAoRF4s"
      }
    },
    {
      "cell_type": "code",
      "source": [
        "import pandas as pd\n",
        "import matplotlib.pyplot as plt\n",
        "import seaborn as sns\n",
        "\n",
        "import multiprocessing\n",
        "from gensim.models import Word2Vec"
      ],
      "metadata": {
        "id": "0vLAW3fsRHVQ"
      },
      "execution_count": null,
      "outputs": []
    },
    {
      "cell_type": "code",
      "source": [
        "from google.colab import drive\n",
        "drive.mount('/content/drive')"
      ],
      "metadata": {
        "colab": {
          "base_uri": "https://localhost:8080/"
        },
        "id": "WCjUzauWnm3N",
        "outputId": "0341ba20-cc52-4565-ac69-6eb4e777f71b"
      },
      "execution_count": null,
      "outputs": [
        {
          "output_type": "stream",
          "name": "stdout",
          "text": [
            "Mounted at /content/drive\n"
          ]
        }
      ]
    },
    {
      "cell_type": "code",
      "source": [
        "root_path = 'gdrive/My Drive/'\n",
        "df = pd.read_csv('/content/drive/MyDrive/recetas.csv', on_bad_lines='skip', delimiter=\"|\")"
      ],
      "metadata": {
        "id": "qfnjS8Eur5KR"
      },
      "execution_count": null,
      "outputs": []
    },
    {
      "cell_type": "code",
      "source": [
        "df.head(10)"
      ],
      "metadata": {
        "colab": {
          "base_uri": "https://localhost:8080/",
          "height": 1000
        },
        "id": "ElskLS2DXrvM",
        "outputId": "be0e0ee5-eae4-4f5a-d699-35b770750cf8"
      },
      "execution_count": null,
      "outputs": [
        {
          "output_type": "execute_result",
          "data": {
            "text/plain": [
              "      Id                      Categoria  \\\n",
              "0  74138  Recetas de Aperitivos y tapas   \n",
              "1  74133  Recetas de Aperitivos y tapas   \n",
              "2  74154  Recetas de Aperitivos y tapas   \n",
              "3  74146  Recetas de Aperitivos y tapas   \n",
              "4  74081  Recetas de Aperitivos y tapas   \n",
              "5  74068  Recetas de Aperitivos y tapas   \n",
              "6  74056  Recetas de Aperitivos y tapas   \n",
              "7  74055  Recetas de Aperitivos y tapas   \n",
              "8  74043  Recetas de Aperitivos y tapas   \n",
              "9  73727  Recetas de Aperitivos y tapas   \n",
              "\n",
              "                                              Nombre  Valoracion Dificultad  \\\n",
              "0                      Receta de Baleadas hondureñas         NaN       baja   \n",
              "1                    Receta de Tacos de carne molida         NaN       baja   \n",
              "2                        Receta de Burritos norteños         NaN   muy baja   \n",
              "3  Receta de Croquetas de pollo caseras de la abuela         NaN       baja   \n",
              "4               Receta de Masa para empanadas fritas         NaN       baja   \n",
              "5                      Receta de Hummus de zanahoria         NaN       baja   \n",
              "6                Receta de Tomates cherry confitados         NaN       baja   \n",
              "7                Receta de Ceviche de atún con mango         4.0   muy baja   \n",
              "8                                  Receta de Edamame         NaN   muy baja   \n",
              "9                  Receta de Bechamel para croquetas         NaN       baja   \n",
              "\n",
              "   Num_comensales  Tiempo             Tipo  \\\n",
              "0             2.0     10m              NaN   \n",
              "1             4.0     30m  Plato principal   \n",
              "2             5.0     30m         Entrante   \n",
              "3             4.0     45m         Entrante   \n",
              "4             3.0     30m         Entrante   \n",
              "5             6.0  1h 30m         Entrante   \n",
              "6             6.0  1h 30m   Acompañamiento   \n",
              "7             4.0  1h 30m         Entrante   \n",
              "8             4.0     10m         Entrante   \n",
              "9             3.0     15m              NaN   \n",
              "\n",
              "                                         Link_receta  Num_comentarios  \\\n",
              "0  https://www.recetasgratis.net/receta-de-balead...                0   \n",
              "1  https://www.recetasgratis.net/receta-de-tacos-...                0   \n",
              "2  https://www.recetasgratis.net/receta-de-burrit...                0   \n",
              "3  https://www.recetasgratis.net/receta-de-croque...                0   \n",
              "4  https://www.recetasgratis.net/receta-de-masa-p...                0   \n",
              "5  https://www.recetasgratis.net/receta-de-hummus...                0   \n",
              "6  https://www.recetasgratis.net/receta-de-tomate...                0   \n",
              "7  https://www.recetasgratis.net/receta-de-cevich...                1   \n",
              "8  https://www.recetasgratis.net/receta-de-edamam...                0   \n",
              "9  https://www.recetasgratis.net/receta-de-becham...                0   \n",
              "\n",
              "   Num_reviews Fecha_modificacion  \\\n",
              "0            0         2020-04-06   \n",
              "1            0         2020-03-27   \n",
              "2            0         2020-03-25   \n",
              "3            0         2020-03-24   \n",
              "4            0         2020-03-03   \n",
              "5            0         2020-02-26   \n",
              "6            0         2020-02-26   \n",
              "7            4         2020-02-24   \n",
              "8            0         2020-02-18   \n",
              "9            0         2020-02-04   \n",
              "\n",
              "                                        Ingredientes  \n",
              "0  4 trotillas de harina,2 tazas de frijoles negr...  \n",
              "1  500 gramos de carne molida,1 papa mediana,2 cu...  \n",
              "2  10 tortillas de harina para burritos,500 gramo...  \n",
              "3  1 pechuga de pollo cocida y troceada,1 pellizc...  \n",
              "4  3 tazas de harina de trigo (420 gramos),1 pizc...  \n",
              "5  2 zanahorias,1 chorro de aceite de olivia virg...  \n",
              "6  500 gramos de tomates cherry,1 rama de romero ...  \n",
              "7  2 filetes de atún,1 lima o limón,2 cucharadas ...  \n",
              "8  1 bolsa de edamame (vainas de soja),1 pellizco...  \n",
              "9  1 litro de leche,50 gramos de mantequilla,1 ce...  "
            ],
            "text/html": [
              "\n",
              "  <div id=\"df-b9f822e9-5a24-4bf5-a0c8-3c8b20e78605\">\n",
              "    <div class=\"colab-df-container\">\n",
              "      <div>\n",
              "<style scoped>\n",
              "    .dataframe tbody tr th:only-of-type {\n",
              "        vertical-align: middle;\n",
              "    }\n",
              "\n",
              "    .dataframe tbody tr th {\n",
              "        vertical-align: top;\n",
              "    }\n",
              "\n",
              "    .dataframe thead th {\n",
              "        text-align: right;\n",
              "    }\n",
              "</style>\n",
              "<table border=\"1\" class=\"dataframe\">\n",
              "  <thead>\n",
              "    <tr style=\"text-align: right;\">\n",
              "      <th></th>\n",
              "      <th>Id</th>\n",
              "      <th>Categoria</th>\n",
              "      <th>Nombre</th>\n",
              "      <th>Valoracion</th>\n",
              "      <th>Dificultad</th>\n",
              "      <th>Num_comensales</th>\n",
              "      <th>Tiempo</th>\n",
              "      <th>Tipo</th>\n",
              "      <th>Link_receta</th>\n",
              "      <th>Num_comentarios</th>\n",
              "      <th>Num_reviews</th>\n",
              "      <th>Fecha_modificacion</th>\n",
              "      <th>Ingredientes</th>\n",
              "    </tr>\n",
              "  </thead>\n",
              "  <tbody>\n",
              "    <tr>\n",
              "      <th>0</th>\n",
              "      <td>74138</td>\n",
              "      <td>Recetas de Aperitivos y tapas</td>\n",
              "      <td>Receta de Baleadas hondureñas</td>\n",
              "      <td>NaN</td>\n",
              "      <td>baja</td>\n",
              "      <td>2.0</td>\n",
              "      <td>10m</td>\n",
              "      <td>NaN</td>\n",
              "      <td>https://www.recetasgratis.net/receta-de-balead...</td>\n",
              "      <td>0</td>\n",
              "      <td>0</td>\n",
              "      <td>2020-04-06</td>\n",
              "      <td>4 trotillas de harina,2 tazas de frijoles negr...</td>\n",
              "    </tr>\n",
              "    <tr>\n",
              "      <th>1</th>\n",
              "      <td>74133</td>\n",
              "      <td>Recetas de Aperitivos y tapas</td>\n",
              "      <td>Receta de Tacos de carne molida</td>\n",
              "      <td>NaN</td>\n",
              "      <td>baja</td>\n",
              "      <td>4.0</td>\n",
              "      <td>30m</td>\n",
              "      <td>Plato principal</td>\n",
              "      <td>https://www.recetasgratis.net/receta-de-tacos-...</td>\n",
              "      <td>0</td>\n",
              "      <td>0</td>\n",
              "      <td>2020-03-27</td>\n",
              "      <td>500 gramos de carne molida,1 papa mediana,2 cu...</td>\n",
              "    </tr>\n",
              "    <tr>\n",
              "      <th>2</th>\n",
              "      <td>74154</td>\n",
              "      <td>Recetas de Aperitivos y tapas</td>\n",
              "      <td>Receta de Burritos norteños</td>\n",
              "      <td>NaN</td>\n",
              "      <td>muy baja</td>\n",
              "      <td>5.0</td>\n",
              "      <td>30m</td>\n",
              "      <td>Entrante</td>\n",
              "      <td>https://www.recetasgratis.net/receta-de-burrit...</td>\n",
              "      <td>0</td>\n",
              "      <td>0</td>\n",
              "      <td>2020-03-25</td>\n",
              "      <td>10 tortillas de harina para burritos,500 gramo...</td>\n",
              "    </tr>\n",
              "    <tr>\n",
              "      <th>3</th>\n",
              "      <td>74146</td>\n",
              "      <td>Recetas de Aperitivos y tapas</td>\n",
              "      <td>Receta de Croquetas de pollo caseras de la abuela</td>\n",
              "      <td>NaN</td>\n",
              "      <td>baja</td>\n",
              "      <td>4.0</td>\n",
              "      <td>45m</td>\n",
              "      <td>Entrante</td>\n",
              "      <td>https://www.recetasgratis.net/receta-de-croque...</td>\n",
              "      <td>0</td>\n",
              "      <td>0</td>\n",
              "      <td>2020-03-24</td>\n",
              "      <td>1 pechuga de pollo cocida y troceada,1 pellizc...</td>\n",
              "    </tr>\n",
              "    <tr>\n",
              "      <th>4</th>\n",
              "      <td>74081</td>\n",
              "      <td>Recetas de Aperitivos y tapas</td>\n",
              "      <td>Receta de Masa para empanadas fritas</td>\n",
              "      <td>NaN</td>\n",
              "      <td>baja</td>\n",
              "      <td>3.0</td>\n",
              "      <td>30m</td>\n",
              "      <td>Entrante</td>\n",
              "      <td>https://www.recetasgratis.net/receta-de-masa-p...</td>\n",
              "      <td>0</td>\n",
              "      <td>0</td>\n",
              "      <td>2020-03-03</td>\n",
              "      <td>3 tazas de harina de trigo (420 gramos),1 pizc...</td>\n",
              "    </tr>\n",
              "    <tr>\n",
              "      <th>5</th>\n",
              "      <td>74068</td>\n",
              "      <td>Recetas de Aperitivos y tapas</td>\n",
              "      <td>Receta de Hummus de zanahoria</td>\n",
              "      <td>NaN</td>\n",
              "      <td>baja</td>\n",
              "      <td>6.0</td>\n",
              "      <td>1h 30m</td>\n",
              "      <td>Entrante</td>\n",
              "      <td>https://www.recetasgratis.net/receta-de-hummus...</td>\n",
              "      <td>0</td>\n",
              "      <td>0</td>\n",
              "      <td>2020-02-26</td>\n",
              "      <td>2 zanahorias,1 chorro de aceite de olivia virg...</td>\n",
              "    </tr>\n",
              "    <tr>\n",
              "      <th>6</th>\n",
              "      <td>74056</td>\n",
              "      <td>Recetas de Aperitivos y tapas</td>\n",
              "      <td>Receta de Tomates cherry confitados</td>\n",
              "      <td>NaN</td>\n",
              "      <td>baja</td>\n",
              "      <td>6.0</td>\n",
              "      <td>1h 30m</td>\n",
              "      <td>Acompañamiento</td>\n",
              "      <td>https://www.recetasgratis.net/receta-de-tomate...</td>\n",
              "      <td>0</td>\n",
              "      <td>0</td>\n",
              "      <td>2020-02-26</td>\n",
              "      <td>500 gramos de tomates cherry,1 rama de romero ...</td>\n",
              "    </tr>\n",
              "    <tr>\n",
              "      <th>7</th>\n",
              "      <td>74055</td>\n",
              "      <td>Recetas de Aperitivos y tapas</td>\n",
              "      <td>Receta de Ceviche de atún con mango</td>\n",
              "      <td>4.0</td>\n",
              "      <td>muy baja</td>\n",
              "      <td>4.0</td>\n",
              "      <td>1h 30m</td>\n",
              "      <td>Entrante</td>\n",
              "      <td>https://www.recetasgratis.net/receta-de-cevich...</td>\n",
              "      <td>1</td>\n",
              "      <td>4</td>\n",
              "      <td>2020-02-24</td>\n",
              "      <td>2 filetes de atún,1 lima o limón,2 cucharadas ...</td>\n",
              "    </tr>\n",
              "    <tr>\n",
              "      <th>8</th>\n",
              "      <td>74043</td>\n",
              "      <td>Recetas de Aperitivos y tapas</td>\n",
              "      <td>Receta de Edamame</td>\n",
              "      <td>NaN</td>\n",
              "      <td>muy baja</td>\n",
              "      <td>4.0</td>\n",
              "      <td>10m</td>\n",
              "      <td>Entrante</td>\n",
              "      <td>https://www.recetasgratis.net/receta-de-edamam...</td>\n",
              "      <td>0</td>\n",
              "      <td>0</td>\n",
              "      <td>2020-02-18</td>\n",
              "      <td>1 bolsa de edamame (vainas de soja),1 pellizco...</td>\n",
              "    </tr>\n",
              "    <tr>\n",
              "      <th>9</th>\n",
              "      <td>73727</td>\n",
              "      <td>Recetas de Aperitivos y tapas</td>\n",
              "      <td>Receta de Bechamel para croquetas</td>\n",
              "      <td>NaN</td>\n",
              "      <td>baja</td>\n",
              "      <td>3.0</td>\n",
              "      <td>15m</td>\n",
              "      <td>NaN</td>\n",
              "      <td>https://www.recetasgratis.net/receta-de-becham...</td>\n",
              "      <td>0</td>\n",
              "      <td>0</td>\n",
              "      <td>2020-02-04</td>\n",
              "      <td>1 litro de leche,50 gramos de mantequilla,1 ce...</td>\n",
              "    </tr>\n",
              "  </tbody>\n",
              "</table>\n",
              "</div>\n",
              "      <button class=\"colab-df-convert\" onclick=\"convertToInteractive('df-b9f822e9-5a24-4bf5-a0c8-3c8b20e78605')\"\n",
              "              title=\"Convert this dataframe to an interactive table.\"\n",
              "              style=\"display:none;\">\n",
              "        \n",
              "  <svg xmlns=\"http://www.w3.org/2000/svg\" height=\"24px\"viewBox=\"0 0 24 24\"\n",
              "       width=\"24px\">\n",
              "    <path d=\"M0 0h24v24H0V0z\" fill=\"none\"/>\n",
              "    <path d=\"M18.56 5.44l.94 2.06.94-2.06 2.06-.94-2.06-.94-.94-2.06-.94 2.06-2.06.94zm-11 1L8.5 8.5l.94-2.06 2.06-.94-2.06-.94L8.5 2.5l-.94 2.06-2.06.94zm10 10l.94 2.06.94-2.06 2.06-.94-2.06-.94-.94-2.06-.94 2.06-2.06.94z\"/><path d=\"M17.41 7.96l-1.37-1.37c-.4-.4-.92-.59-1.43-.59-.52 0-1.04.2-1.43.59L10.3 9.45l-7.72 7.72c-.78.78-.78 2.05 0 2.83L4 21.41c.39.39.9.59 1.41.59.51 0 1.02-.2 1.41-.59l7.78-7.78 2.81-2.81c.8-.78.8-2.07 0-2.86zM5.41 20L4 18.59l7.72-7.72 1.47 1.35L5.41 20z\"/>\n",
              "  </svg>\n",
              "      </button>\n",
              "      \n",
              "  <style>\n",
              "    .colab-df-container {\n",
              "      display:flex;\n",
              "      flex-wrap:wrap;\n",
              "      gap: 12px;\n",
              "    }\n",
              "\n",
              "    .colab-df-convert {\n",
              "      background-color: #E8F0FE;\n",
              "      border: none;\n",
              "      border-radius: 50%;\n",
              "      cursor: pointer;\n",
              "      display: none;\n",
              "      fill: #1967D2;\n",
              "      height: 32px;\n",
              "      padding: 0 0 0 0;\n",
              "      width: 32px;\n",
              "    }\n",
              "\n",
              "    .colab-df-convert:hover {\n",
              "      background-color: #E2EBFA;\n",
              "      box-shadow: 0px 1px 2px rgba(60, 64, 67, 0.3), 0px 1px 3px 1px rgba(60, 64, 67, 0.15);\n",
              "      fill: #174EA6;\n",
              "    }\n",
              "\n",
              "    [theme=dark] .colab-df-convert {\n",
              "      background-color: #3B4455;\n",
              "      fill: #D2E3FC;\n",
              "    }\n",
              "\n",
              "    [theme=dark] .colab-df-convert:hover {\n",
              "      background-color: #434B5C;\n",
              "      box-shadow: 0px 1px 3px 1px rgba(0, 0, 0, 0.15);\n",
              "      filter: drop-shadow(0px 1px 2px rgba(0, 0, 0, 0.3));\n",
              "      fill: #FFFFFF;\n",
              "    }\n",
              "  </style>\n",
              "\n",
              "      <script>\n",
              "        const buttonEl =\n",
              "          document.querySelector('#df-b9f822e9-5a24-4bf5-a0c8-3c8b20e78605 button.colab-df-convert');\n",
              "        buttonEl.style.display =\n",
              "          google.colab.kernel.accessAllowed ? 'block' : 'none';\n",
              "\n",
              "        async function convertToInteractive(key) {\n",
              "          const element = document.querySelector('#df-b9f822e9-5a24-4bf5-a0c8-3c8b20e78605');\n",
              "          const dataTable =\n",
              "            await google.colab.kernel.invokeFunction('convertToInteractive',\n",
              "                                                     [key], {});\n",
              "          if (!dataTable) return;\n",
              "\n",
              "          const docLinkHtml = 'Like what you see? Visit the ' +\n",
              "            '<a target=\"_blank\" href=https://colab.research.google.com/notebooks/data_table.ipynb>data table notebook</a>'\n",
              "            + ' to learn more about interactive tables.';\n",
              "          element.innerHTML = '';\n",
              "          dataTable['output_type'] = 'display_data';\n",
              "          await google.colab.output.renderOutput(dataTable, element);\n",
              "          const docLink = document.createElement('div');\n",
              "          docLink.innerHTML = docLinkHtml;\n",
              "          element.appendChild(docLink);\n",
              "        }\n",
              "      </script>\n",
              "    </div>\n",
              "  </div>\n",
              "  "
            ]
          },
          "metadata": {},
          "execution_count": 29
        }
      ]
    },
    {
      "cell_type": "code",
      "source": [
        "ingredientes = df.Ingredientes"
      ],
      "metadata": {
        "id": "-hRw6dgMnozj"
      },
      "execution_count": null,
      "outputs": []
    },
    {
      "cell_type": "code",
      "source": [
        "df = ingredientes.to_frame()"
      ],
      "metadata": {
        "id": "swTS91Y2X4_r"
      },
      "execution_count": null,
      "outputs": []
    },
    {
      "cell_type": "code",
      "source": [
        "df = df.dropna()"
      ],
      "metadata": {
        "id": "4fLr0A42akpo"
      },
      "execution_count": 58,
      "outputs": []
    },
    {
      "cell_type": "code",
      "source": [
        "print(\"Cantidad de documentos:\", df.shape[0])"
      ],
      "metadata": {
        "colab": {
          "base_uri": "https://localhost:8080/"
        },
        "id": "5u4Ja76gntS9",
        "outputId": "0ef25d60-93e2-4ec1-c030-da7acba4257e"
      },
      "execution_count": 59,
      "outputs": [
        {
          "output_type": "stream",
          "name": "stdout",
          "text": [
            "Cantidad de documentos: 22150\n"
          ]
        }
      ]
    },
    {
      "cell_type": "markdown",
      "source": [
        "Preprocessing"
      ],
      "metadata": {
        "id": "pcBWe-7Wnvo0"
      }
    },
    {
      "cell_type": "code",
      "source": [
        "from keras.preprocessing.text import text_to_word_sequence\n",
        "\n",
        "sentences = []\n",
        "# Recorrer todas las filas y transformar las oraciones\n",
        "# en una secuencia de palabras (esto podría realizarse con NLTK o spaCy también)\n",
        "for _, row in df[:None].iterrows():\n",
        "    sentences.append(text_to_word_sequence(row[0]))"
      ],
      "metadata": {
        "id": "DlNlyYVpnuiz"
      },
      "execution_count": 105,
      "outputs": []
    },
    {
      "cell_type": "code",
      "source": [
        "sentences[:1]"
      ],
      "metadata": {
        "id": "un7lLGO6nx9k",
        "colab": {
          "base_uri": "https://localhost:8080/"
        },
        "outputId": "0b83ecd0-d09a-4552-cb0e-c07b4873e37c"
      },
      "execution_count": 106,
      "outputs": [
        {
          "output_type": "execute_result",
          "data": {
            "text/plain": [
              "[['4',\n",
              "  'trotillas',\n",
              "  'de',\n",
              "  'harina',\n",
              "  '2',\n",
              "  'tazas',\n",
              "  'de',\n",
              "  'frijoles',\n",
              "  'negros',\n",
              "  'cocidos',\n",
              "  '2',\n",
              "  'aguacates',\n",
              "  '150',\n",
              "  'gramos',\n",
              "  'de',\n",
              "  'queso',\n",
              "  'rallado',\n",
              "  '4',\n",
              "  'cucharadas',\n",
              "  'soperas',\n",
              "  'de',\n",
              "  'crema',\n",
              "  'agria']]"
            ]
          },
          "metadata": {},
          "execution_count": 106
        }
      ]
    },
    {
      "cell_type": "code",
      "source": [
        "#Quito numeros\n",
        "sentence_tokens_no_num = []\n",
        "for sentence in sentences:\n",
        "  new_sentence = []\n",
        "  for word in sentence:\n",
        "    if not word.isnumeric():\n",
        "       new_sentence.append(word)\n",
        "  sentence_tokens_no_num.append(new_sentence)"
      ],
      "metadata": {
        "id": "qH_d7iiKgHB6"
      },
      "execution_count": 122,
      "outputs": []
    },
    {
      "cell_type": "code",
      "source": [
        "#sentence_tokens_no_num[:1]"
      ],
      "metadata": {
        "id": "okNApDVzjd5N"
      },
      "execution_count": 155,
      "outputs": []
    },
    {
      "cell_type": "code",
      "source": [
        "from gensim.models.callbacks import CallbackAny2Vec\n",
        "class callback(CallbackAny2Vec):\n",
        "    \"\"\"\n",
        "    Callback to print loss after each epoch\n",
        "    \"\"\"\n",
        "    def __init__(self):\n",
        "        self.epoch = 0\n",
        "\n",
        "    def on_epoch_end(self, model):\n",
        "        loss = model.get_latest_training_loss()\n",
        "        if self.epoch == 0:\n",
        "            print('Loss after epoch {}: {}'.format(self.epoch, loss))\n",
        "        else:\n",
        "            print('Loss after epoch {}: {}'.format(self.epoch, loss- self.loss_previous_step))\n",
        "        self.epoch += 1\n",
        "        self.loss_previous_step = loss"
      ],
      "metadata": {
        "id": "issWB6Iwn2Jd"
      },
      "execution_count": 124,
      "outputs": []
    },
    {
      "cell_type": "code",
      "source": [
        "w2v_model = Word2Vec(min_count=5,    \n",
        "                     window=2,       \n",
        "                     size=50,       \n",
        "                     negative=20,    \n",
        "                     workers=1,      \n",
        "                     sg=1)          "
      ],
      "metadata": {
        "id": "YTiF4waOn6fo",
        "colab": {
          "base_uri": "https://localhost:8080/"
        },
        "outputId": "ccc7750f-73b8-41dd-d24b-0d19a3284f44"
      },
      "execution_count": 146,
      "outputs": [
        {
          "output_type": "stream",
          "name": "stderr",
          "text": [
            "WARNING:gensim.models.base_any2vec:consider setting layer size to a multiple of 4 for greater performance\n"
          ]
        }
      ]
    },
    {
      "cell_type": "code",
      "source": [
        "# Buildear vocabulario\n",
        "w2v_model.build_vocab(sentence_tokens_no_num)"
      ],
      "metadata": {
        "id": "r_86nyUMn-r4"
      },
      "execution_count": 147,
      "outputs": []
    },
    {
      "cell_type": "code",
      "source": [
        "print(\"Cantidad de docs en el corpus:\", w2v_model.corpus_count)"
      ],
      "metadata": {
        "id": "or8_UEQDn_wV",
        "colab": {
          "base_uri": "https://localhost:8080/"
        },
        "outputId": "dd294e82-894d-4e8b-f8fd-e61d1fba244b"
      },
      "execution_count": 148,
      "outputs": [
        {
          "output_type": "stream",
          "name": "stdout",
          "text": [
            "Cantidad de docs en el corpus: 22150\n"
          ]
        }
      ]
    },
    {
      "cell_type": "code",
      "source": [
        "print(\"Cantidad de words distintas en el corpus:\", len(w2v_model.wv.vocab))"
      ],
      "metadata": {
        "id": "ShiavxLloAti",
        "colab": {
          "base_uri": "https://localhost:8080/"
        },
        "outputId": "69192401-941c-41ca-e5e8-911c47dd6c6c"
      },
      "execution_count": 149,
      "outputs": [
        {
          "output_type": "stream",
          "name": "stdout",
          "text": [
            "Cantidad de words distintas en el corpus: 2890\n"
          ]
        }
      ]
    },
    {
      "cell_type": "markdown",
      "source": [
        "Training"
      ],
      "metadata": {
        "id": "V1gEzLGjoCEe"
      }
    },
    {
      "cell_type": "code",
      "source": [
        "\n",
        "w2v_model.train(sentence_tokens_no_num,\n",
        "                 total_examples=w2v_model.corpus_count,\n",
        "                 epochs=50,\n",
        "                 compute_loss = True,\n",
        "                 callbacks=[callback()]\n",
        "                 )"
      ],
      "metadata": {
        "id": "OKOWEFNQoC0f",
        "colab": {
          "base_uri": "https://localhost:8080/"
        },
        "outputId": "d4ddb712-d483-43ca-a519-9e926869cd93"
      },
      "execution_count": 150,
      "outputs": [
        {
          "output_type": "stream",
          "name": "stdout",
          "text": [
            "Loss after epoch 0: 3354047.5\n",
            "Loss after epoch 1: 2651292.5\n",
            "Loss after epoch 2: 2546415.0\n",
            "Loss after epoch 3: 2390246.0\n",
            "Loss after epoch 4: 2377461.0\n",
            "Loss after epoch 5: 2367420.0\n",
            "Loss after epoch 6: 2287378.0\n",
            "Loss after epoch 7: 2219630.0\n",
            "Loss after epoch 8: 2214334.0\n",
            "Loss after epoch 9: 2217522.0\n",
            "Loss after epoch 10: 2209722.0\n",
            "Loss after epoch 11: 2207938.0\n",
            "Loss after epoch 12: 2205808.0\n",
            "Loss after epoch 13: 2201440.0\n",
            "Loss after epoch 14: 2142002.0\n",
            "Loss after epoch 15: 2144168.0\n",
            "Loss after epoch 16: 2138124.0\n",
            "Loss after epoch 17: 2139488.0\n",
            "Loss after epoch 18: 2142556.0\n",
            "Loss after epoch 19: 2143436.0\n",
            "Loss after epoch 20: 2144164.0\n",
            "Loss after epoch 21: 2142064.0\n",
            "Loss after epoch 22: 2147268.0\n",
            "Loss after epoch 23: 2149796.0\n",
            "Loss after epoch 24: 2141664.0\n",
            "Loss after epoch 25: 2154988.0\n",
            "Loss after epoch 26: 2152640.0\n",
            "Loss after epoch 27: 2157880.0\n",
            "Loss after epoch 28: 2160884.0\n",
            "Loss after epoch 29: 1665536.0\n",
            "Loss after epoch 30: 648448.0\n",
            "Loss after epoch 31: 645576.0\n",
            "Loss after epoch 32: 643048.0\n",
            "Loss after epoch 33: 640592.0\n",
            "Loss after epoch 34: 637368.0\n",
            "Loss after epoch 35: 636488.0\n",
            "Loss after epoch 36: 635832.0\n",
            "Loss after epoch 37: 636776.0\n",
            "Loss after epoch 38: 631040.0\n",
            "Loss after epoch 39: 627864.0\n",
            "Loss after epoch 40: 626296.0\n",
            "Loss after epoch 41: 623176.0\n",
            "Loss after epoch 42: 621064.0\n",
            "Loss after epoch 43: 620392.0\n",
            "Loss after epoch 44: 614376.0\n",
            "Loss after epoch 45: 612016.0\n",
            "Loss after epoch 46: 606592.0\n",
            "Loss after epoch 47: 604104.0\n",
            "Loss after epoch 48: 598920.0\n",
            "Loss after epoch 49: 585672.0\n"
          ]
        },
        {
          "output_type": "execute_result",
          "data": {
            "text/plain": [
              "(19395335, 34353900)"
            ]
          },
          "metadata": {},
          "execution_count": 150
        }
      ]
    },
    {
      "cell_type": "markdown",
      "source": [
        "Test"
      ],
      "metadata": {
        "id": "7sTnnI-YoGZ9"
      }
    },
    {
      "cell_type": "code",
      "source": [
        "# Palabras que MÁS se relacionan con...:\n",
        "w2v_model.wv.most_similar(positive=[\"café\"], topn=10)"
      ],
      "metadata": {
        "id": "f4vOKtT3oHFy",
        "colab": {
          "base_uri": "https://localhost:8080/"
        },
        "outputId": "b50cf1cf-77a0-4864-8131-86f7f04b2454"
      },
      "execution_count": 161,
      "outputs": [
        {
          "output_type": "execute_result",
          "data": {
            "text/plain": [
              "[('instantáneo', 0.7104846835136414),\n",
              " ('soluble', 0.7014638781547546),\n",
              " ('cafe', 0.6901399493217468),\n",
              " ('nescafé', 0.6395068764686584),\n",
              " ('descafeinado', 0.6302001476287842),\n",
              " ('cacao', 0.6197483539581299),\n",
              " ('espresso', 0.6054309010505676),\n",
              " ('rasa', 0.5973159074783325),\n",
              " ('vainila', 0.5952202081680298),\n",
              " ('pistachos', 0.5874475240707397)]"
            ]
          },
          "metadata": {},
          "execution_count": 161
        }
      ]
    },
    {
      "cell_type": "markdown",
      "source": [
        "Gráficos"
      ],
      "metadata": {
        "id": "YRTmiKMcoJ4T"
      }
    },
    {
      "cell_type": "code",
      "source": [
        "from sklearn.decomposition import IncrementalPCA    \n",
        "from sklearn.manifold import TSNE                   \n",
        "import numpy as np                                  \n",
        "\n",
        "def reduce_dimensions(model):\n",
        "    num_dimensions = 2  \n",
        "\n",
        "    vectors = np.asarray(model.wv.vectors)\n",
        "    labels = np.asarray(model.wv.index2word)  \n",
        "\n",
        "    tsne = TSNE(n_components=num_dimensions, random_state=0)\n",
        "    vectors = tsne.fit_transform(vectors)\n",
        "\n",
        "    x_vals = [v[0] for v in vectors]\n",
        "    y_vals = [v[1] for v in vectors]\n",
        "    return x_vals, y_vals, labels"
      ],
      "metadata": {
        "id": "jmnUmVJnoHnA"
      },
      "execution_count": 156,
      "outputs": []
    },
    {
      "cell_type": "code",
      "source": [
        "# Graficar los embedddings en 2D\n",
        "import plotly.graph_objects as go\n",
        "import plotly.express as px\n",
        "\n",
        "x_vals, y_vals, labels = reduce_dimensions(w2v_model)\n",
        "\n",
        "MAX_WORDS=200\n",
        "fig = px.scatter(x=x_vals[:MAX_WORDS], y=y_vals[:MAX_WORDS], text=labels[:MAX_WORDS])\n",
        "fig.show(renderer=\"colab\") # esto para plotly en colab"
      ],
      "metadata": {
        "id": "nownzRTBoMX_",
        "colab": {
          "base_uri": "https://localhost:8080/",
          "height": 684
        },
        "outputId": "13b52610-9d8a-4983-8554-1318439e2342"
      },
      "execution_count": 157,
      "outputs": [
        {
          "output_type": "stream",
          "name": "stderr",
          "text": [
            "/usr/local/lib/python3.7/dist-packages/sklearn/manifold/_t_sne.py:783: FutureWarning:\n",
            "\n",
            "The default initialization in TSNE will change from 'random' to 'pca' in 1.2.\n",
            "\n",
            "/usr/local/lib/python3.7/dist-packages/sklearn/manifold/_t_sne.py:793: FutureWarning:\n",
            "\n",
            "The default learning rate in TSNE will change from 200.0 to 'auto' in 1.2.\n",
            "\n"
          ]
        },
        {
          "output_type": "display_data",
          "data": {
            "text/html": [
              "<html>\n",
              "<head><meta charset=\"utf-8\" /></head>\n",
              "<body>\n",
              "    <div>            <script src=\"https://cdnjs.cloudflare.com/ajax/libs/mathjax/2.7.5/MathJax.js?config=TeX-AMS-MML_SVG\"></script><script type=\"text/javascript\">if (window.MathJax) {MathJax.Hub.Config({SVG: {font: \"STIX-Web\"}});}</script>                <script type=\"text/javascript\">window.PlotlyConfig = {MathJaxConfig: 'local'};</script>\n",
              "        <script src=\"https://cdn.plot.ly/plotly-2.8.3.min.js\"></script>                <div id=\"0f5f1931-2175-40ba-a15d-08fa1b411146\" class=\"plotly-graph-div\" style=\"height:525px; width:100%;\"></div>            <script type=\"text/javascript\">                                    window.PLOTLYENV=window.PLOTLYENV || {};                                    if (document.getElementById(\"0f5f1931-2175-40ba-a15d-08fa1b411146\")) {                    Plotly.newPlot(                        \"0f5f1931-2175-40ba-a15d-08fa1b411146\",                        [{\"hovertemplate\":\"x=%{x}<br>y=%{y}<br>text=%{text}<extra></extra>\",\"legendgroup\":\"\",\"marker\":{\"color\":\"#636efa\",\"symbol\":\"circle\"},\"mode\":\"markers+text\",\"name\":\"\",\"orientation\":\"v\",\"showlegend\":false,\"text\":[\"de\",\"gramos\",\"sal\",\"pizca\",\"aceite\",\"taza\",\"pimienta\",\"cucharadas\",\"en\",\"cebolla\",\"o\",\"cucharada\",\"cucharadita\",\"leche\",\"ajo\",\"az\\u00facar\",\"unidad\",\"unidades\",\"harina\",\"oliva\",\"soperas\",\"mililitros\",\"queso\",\"gr\",\"mantequilla\",\"agua\",\"y\",\"para\",\"huevos\",\"huevo\",\"sopera\",\"dientes\",\"lim\\u00f3n\",\"tomate\",\"g\",\"polvo\",\"tazas\",\"blanco\",\"perejil\",\"chorro\",\"vino\",\"crema\",\"pollo\",\"vaso\",\"salsa\",\"gusto\",\"lata\",\"pimiento\",\"rallado\",\"negra\",\"s\",\"al\",\"caldo\",\"pan\",\"molida\",\"picado\",\"sin\",\"vinagre\",\"carne\",\"tomates\",\"vainilla\",\"diente\",\"verde\",\"postre\",\"nata\",\"kilogramo\",\"blanca\",\"hojas\",\"kg\",\"rojo\",\"picada\",\"canela\",\"un\",\"litro\",\"arroz\",\"fresco\",\"la\",\"zanahoria\",\"laurel\",\"cucharaditas\",\"pu\\u00f1ado\",\"piment\\u00f3n\",\"cerdo\",\"chocolate\",\"patatas\",\"levadura\",\"una\",\"or\\u00e9gano\",\"pasta\",\"a\",\"jam\\u00f3n\",\"zumo\",\"dulce\",\"trigo\",\"ma\\u00edz\",\"grande\",\"rama\",\"opcional\",\"jugo\",\"cebollas\",\"paquete\",\"naranja\",\"ml\",\"el\",\"grs\",\"piezas\",\"esencia\",\"tomillo\",\"kilo\",\"virgen\",\"cilantro\",\"manteca\",\"seco\",\"hornear\",\"champi\\u00f1\\u00f3n\",\"grandes\",\"trozo\",\"pieza\",\"verdes\",\"nuez\",\"parmesano\",\"condensada\",\"zanahorias\",\"molido\",\"manojo\",\"pechuga\",\"lonchas\",\"con\",\"hoja\",\"soja\",\"extra\",\"mayonesa\",\"moscada\",\"mostaza\",\"almendras\",\"chile\",\"ajos\",\"lechuga\",\"coco\",\"aceitunas\",\"comino\",\"peque\\u00f1o\",\"fresca\",\"rodajas\",\"miel\",\"pimientos\",\"vegetal\",\"ud\",\"gelatina\",\"semillas\",\"at\\u00fan\",\"apio\",\"bote\",\"pasas\",\"ralladura\",\"l\\u00edquida\",\"cocido\",\"manzana\",\"ternera\",\"girasol\",\"sobre\",\"natural\",\"puerro\",\"filetes\",\"pescado\",\"nueces\",\"margarina\",\"galletas\",\"picadas\",\"azucar\",\"del\",\"medianas\",\"rebanadas\",\"maicena\",\"yemas\",\"maduros\",\"albahaca\",\"picados\",\"papas\",\"pi\\u00f1a\",\"jengibre\",\"copa\",\"trozos\",\"peladas\",\"peque\\u00f1a\",\"limones\",\"vasos\",\"tipo\",\"moreno\",\"yogur\",\"ccs\",\"res\",\"calabac\\u00edn\",\"mediana\",\"gambas\",\"entera\",\"tinto\",\"ramas\",\"cacao\",\"medio\"],\"x\":[8.673564910888672,11.224466323852539,-2.257678747177124,-1.4425781965255737,1.4225281476974487,12.325159072875977,-3.587984085083008,7.3047003746032715,-4.567253589630127,-0.6040896773338318,9.03902816772461,6.753244876861572,7.351193904876709,25.42824935913086,-6.628452301025391,20.074602127075195,2.324500560760498,2.3245298862457275,19.88620376586914,1.1946989297866821,5.397704124450684,7.131131649017334,11.32894229888916,13.567157745361328,18.192493438720703,7.447274208068848,-3.1968443393707275,-34.14628219604492,15.297178268432617,15.231710433959961,5.128951072692871,-1.61478853225708,0.6552359461784363,-4.834469318389893,13.102461814880371,6.277728080749512,12.322151184082031,-20.169300079345703,-11.328100204467773,2.756030321121216,-22.9130859375,25.608728408813477,15.646445274353027,4.529338836669922,-7.451776027679443,-2.9649293422698975,11.101308822631836,-3.2329261302948,12.455148696899414,-2.5722920894622803,48.964447021484375,-1.7060626745224,-24.041345596313477,7.560689449310303,9.57304573059082,-14.440062522888184,3.822981834411621,0.4946807324886322,29.997961044311523,-23.876083374023438,26.034969329833984,-1.5499738454818726,-2.526232957839966,5.063047885894775,28.19638442993164,10.403350830078125,-0.292736291885376,-8.483220100402832,12.09041976928711,-3.054447889328003,4.398127555847168,25.240962982177734,-19.743562698364258,7.316390037536621,4.514528274536133,-13.107101440429688,-30.852184295654297,-0.032968755811452866,-9.085701942443848,8.013558387756348,13.215950965881348,-11.10789966583252,30.213315963745117,36.518836975097656,-2.354905128479004,26.762948989868164,5.85597038269043,-7.568636417388916,-9.223974227905273,-1.6167558431625366,26.023576736450195,-1.832526683807373,1.121146321296692,20.232908248901367,14.208036422729492,2.0418479442596436,-7.401117324829102,0.030507512390613556,-2.0240345001220703,-4.593624114990234,13.51771354675293,0.46858975291252136,6.030521869659424,-31.867151260375977,13.56101131439209,1.9523074626922607,27.471145629882812,-9.615472793579102,11.570737838745117,1.4603707790374756,-11.654890060424805,19.094472885131836,-7.833680152893066,24.988988876342773,-7.570683479309082,-4.336499214172363,3.7948825359344482,1.825514554977417,-12.799460411071777,23.070932388305664,10.64830207824707,26.791574478149414,-4.2988176345825195,-8.049095153808594,-11.560354232788086,21.627967834472656,4.589229583740234,-25.762033462524414,-8.33328914642334,-10.456372261047363,0.5020471215248108,-6.402840614318848,23.090709686279297,-6.326474189758301,29.97789192199707,-37.302330017089844,-6.704092979431152,-8.039509773254395,27.344276428222656,-9.412243843078613,-7.557391166687012,4.017431259155273,27.20372200012207,-15.683295249938965,14.937570571899414,-24.38538932800293,4.291797637939453,5.17765998840332,-47.203006744384766,8.655965805053711,-13.935264587402344,-2.229724884033203,10.210041999816895,27.21012306213379,-1.420531988143921,28.70599937438965,14.19540786743164,0.46029579639434814,29.772050857543945,2.8719489574432373,9.972884178161621,-0.36524415016174316,-2.0196855068206787,10.219780921936035,6.485020637512207,29.403491973876953,18.553739547729492,40.516597747802734,-4.334959983825684,19.48181915283203,-39.49673843383789,-4.112902641296387,-15.624222755432129,21.026254653930664,30.043556213378906,-21.246553421020508,-8.451128005981445,-21.596044540405273,-1.2876231670379639,-2.6026923656463623,-10.046738624572754,2.235412359237671,-14.51772689819336,-5.028180122375488,3.162801504135132,-23.67302703857422,4.586987018585205,18.609750747680664,15.68260669708252,23.738792419433594,6.646481513977051,30.716691970825195,-3.18463134765625,2.4790945053100586,2.582324743270874,24.959421157836914,-20.472871780395508,-7.355815410614014,34.923099517822266,-19.89499282836914],\"xaxis\":\"x\",\"y\":[9.140179634094238,8.144922256469727,15.476563453674316,16.39739227294922,18.752798080444336,11.751099586486816,16.863162994384766,15.131124496459961,-55.82209396362305,-16.8167781829834,9.30553150177002,15.658559799194336,16.710182189941406,13.848577499389648,-14.658196449279785,21.00198745727539,-4.841252326965332,-4.6710333824157715,24.040834426879883,18.962987899780273,15.376866340637207,12.65756893157959,46.01567077636719,-0.9471092820167542,17.074548721313477,7.13107442855835,12.837912559509277,-4.255029201507568,11.613801956176758,11.761430740356445,16.195049285888672,-15.746220588684082,4.423159122467041,-12.799756050109863,-0.5681220293045044,18.368101119995117,11.777022361755371,28.935697555541992,12.077110290527344,14.589357376098633,32.557838439941406,11.81043815612793,-23.059770584106445,8.115104675292969,29.889328002929688,11.296981811523438,2.9901251792907715,-15.825239181518555,38.430973052978516,16.221263885498047,24.824739456176758,12.191082000732422,19.55209732055664,35.268028259277344,-5.605891227722168,8.723593711853027,3.131131172180176,20.039751052856445,-27.96675682067871,-29.972076416015625,17.53321075439453,-15.72094440460205,-12.942822456359863,16.17458152770996,8.361928939819336,-44.58443069458008,-10.699502944946289,3.028765916824341,-42.53538513183594,-13.612281799316406,-13.285954475402832,17.775373458862305,1.4296674728393555,10.64340877532959,-20.18777084350586,7.673534870147705,5.6729841232299805,-17.558937072753906,13.39561653137207,16.083572387695312,7.222548484802246,19.111085891723633,-32.003395080566406,13.840126037597656,-34.69242477416992,29.905771255493164,-8.027830123901367,17.50394058227539,-19.31688690185547,12.16943645477295,-17.847929000854492,4.655232906341553,11.864279747009277,30.86126708984375,-14.224038124084473,-9.65137767791748,6.140341281890869,11.689376831054688,4.716795921325684,-35.11935043334961,4.514235973358154,4.298516750335693,9.989380836486816,3.6629738807678223,-0.21691106259822845,-5.2953057289123535,19.67702293395996,12.773799896240234,-43.52254104614258,18.06233787536621,10.95533275604248,17.491344451904297,15.827329635620117,26.106273651123047,-24.987146377563477,-40.93673324584961,-5.44795560836792,-5.439360618591309,-36.23482894897461,14.888739585876465,45.415767669677734,12.070902824401855,-33.77177810668945,18.82699203491211,3.352186679840088,-43.10519790649414,42.46623229980469,10.920409202575684,3.107039451599121,33.0513801574707,18.37972068786621,29.711904525756836,15.844926834106445,28.80203628540039,-2.5852878093719482,25.636478424072266,-14.896085739135742,-8.071372032165527,15.253019332885742,-2.975184679031372,18.984094619750977,6.8278985023498535,36.535926818847656,-12.221851348876953,23.690526962280273,-30.576950073242188,19.863624572753906,-3.953179359436035,-14.764246940612793,30.368793487548828,-2.318161964416504,-19.639312744140625,3.7785592079162598,-4.47960901260376,5.3335957527160645,7.115270614624023,-10.015995979309082,0.810829758644104,-33.09502029418945,20.527753829956055,14.485795974731445,36.42119216918945,-19.288406372070312,-38.005184173583984,-24.61435890197754,-2.2182161808013916,17.329500198364258,-2.709315776824951,-50.95766830444336,21.094282150268555,2.5939369201660156,-41.43849182128906,-11.564164161682129,23.17440414428711,24.884605407714844,-31.94316864013672,11.075113296508789,-36.90967559814453,-41.7926025390625,0.08554486185312271,16.14279556274414,8.33071231842041,-14.234993934631348,-45.9461555480957,-10.079324722290039,-25.534317016601562,7.954403877258301,51.640071868896484,23.45408058166504,46.09990310668945,12.014689445495605,-31.949962615966797,-17.713132858276367,-11.026788711547852,-29.8232421875,12.323029518127441,29.00176239013672,6.170020580291748,16.921213150024414,1.4279847145080566],\"yaxis\":\"y\",\"type\":\"scatter\"}],                        {\"template\":{\"data\":{\"bar\":[{\"error_x\":{\"color\":\"#2a3f5f\"},\"error_y\":{\"color\":\"#2a3f5f\"},\"marker\":{\"line\":{\"color\":\"#E5ECF6\",\"width\":0.5},\"pattern\":{\"fillmode\":\"overlay\",\"size\":10,\"solidity\":0.2}},\"type\":\"bar\"}],\"barpolar\":[{\"marker\":{\"line\":{\"color\":\"#E5ECF6\",\"width\":0.5},\"pattern\":{\"fillmode\":\"overlay\",\"size\":10,\"solidity\":0.2}},\"type\":\"barpolar\"}],\"carpet\":[{\"aaxis\":{\"endlinecolor\":\"#2a3f5f\",\"gridcolor\":\"white\",\"linecolor\":\"white\",\"minorgridcolor\":\"white\",\"startlinecolor\":\"#2a3f5f\"},\"baxis\":{\"endlinecolor\":\"#2a3f5f\",\"gridcolor\":\"white\",\"linecolor\":\"white\",\"minorgridcolor\":\"white\",\"startlinecolor\":\"#2a3f5f\"},\"type\":\"carpet\"}],\"choropleth\":[{\"colorbar\":{\"outlinewidth\":0,\"ticks\":\"\"},\"type\":\"choropleth\"}],\"contour\":[{\"colorbar\":{\"outlinewidth\":0,\"ticks\":\"\"},\"colorscale\":[[0.0,\"#0d0887\"],[0.1111111111111111,\"#46039f\"],[0.2222222222222222,\"#7201a8\"],[0.3333333333333333,\"#9c179e\"],[0.4444444444444444,\"#bd3786\"],[0.5555555555555556,\"#d8576b\"],[0.6666666666666666,\"#ed7953\"],[0.7777777777777778,\"#fb9f3a\"],[0.8888888888888888,\"#fdca26\"],[1.0,\"#f0f921\"]],\"type\":\"contour\"}],\"contourcarpet\":[{\"colorbar\":{\"outlinewidth\":0,\"ticks\":\"\"},\"type\":\"contourcarpet\"}],\"heatmap\":[{\"colorbar\":{\"outlinewidth\":0,\"ticks\":\"\"},\"colorscale\":[[0.0,\"#0d0887\"],[0.1111111111111111,\"#46039f\"],[0.2222222222222222,\"#7201a8\"],[0.3333333333333333,\"#9c179e\"],[0.4444444444444444,\"#bd3786\"],[0.5555555555555556,\"#d8576b\"],[0.6666666666666666,\"#ed7953\"],[0.7777777777777778,\"#fb9f3a\"],[0.8888888888888888,\"#fdca26\"],[1.0,\"#f0f921\"]],\"type\":\"heatmap\"}],\"heatmapgl\":[{\"colorbar\":{\"outlinewidth\":0,\"ticks\":\"\"},\"colorscale\":[[0.0,\"#0d0887\"],[0.1111111111111111,\"#46039f\"],[0.2222222222222222,\"#7201a8\"],[0.3333333333333333,\"#9c179e\"],[0.4444444444444444,\"#bd3786\"],[0.5555555555555556,\"#d8576b\"],[0.6666666666666666,\"#ed7953\"],[0.7777777777777778,\"#fb9f3a\"],[0.8888888888888888,\"#fdca26\"],[1.0,\"#f0f921\"]],\"type\":\"heatmapgl\"}],\"histogram\":[{\"marker\":{\"pattern\":{\"fillmode\":\"overlay\",\"size\":10,\"solidity\":0.2}},\"type\":\"histogram\"}],\"histogram2d\":[{\"colorbar\":{\"outlinewidth\":0,\"ticks\":\"\"},\"colorscale\":[[0.0,\"#0d0887\"],[0.1111111111111111,\"#46039f\"],[0.2222222222222222,\"#7201a8\"],[0.3333333333333333,\"#9c179e\"],[0.4444444444444444,\"#bd3786\"],[0.5555555555555556,\"#d8576b\"],[0.6666666666666666,\"#ed7953\"],[0.7777777777777778,\"#fb9f3a\"],[0.8888888888888888,\"#fdca26\"],[1.0,\"#f0f921\"]],\"type\":\"histogram2d\"}],\"histogram2dcontour\":[{\"colorbar\":{\"outlinewidth\":0,\"ticks\":\"\"},\"colorscale\":[[0.0,\"#0d0887\"],[0.1111111111111111,\"#46039f\"],[0.2222222222222222,\"#7201a8\"],[0.3333333333333333,\"#9c179e\"],[0.4444444444444444,\"#bd3786\"],[0.5555555555555556,\"#d8576b\"],[0.6666666666666666,\"#ed7953\"],[0.7777777777777778,\"#fb9f3a\"],[0.8888888888888888,\"#fdca26\"],[1.0,\"#f0f921\"]],\"type\":\"histogram2dcontour\"}],\"mesh3d\":[{\"colorbar\":{\"outlinewidth\":0,\"ticks\":\"\"},\"type\":\"mesh3d\"}],\"parcoords\":[{\"line\":{\"colorbar\":{\"outlinewidth\":0,\"ticks\":\"\"}},\"type\":\"parcoords\"}],\"pie\":[{\"automargin\":true,\"type\":\"pie\"}],\"scatter\":[{\"marker\":{\"colorbar\":{\"outlinewidth\":0,\"ticks\":\"\"}},\"type\":\"scatter\"}],\"scatter3d\":[{\"line\":{\"colorbar\":{\"outlinewidth\":0,\"ticks\":\"\"}},\"marker\":{\"colorbar\":{\"outlinewidth\":0,\"ticks\":\"\"}},\"type\":\"scatter3d\"}],\"scattercarpet\":[{\"marker\":{\"colorbar\":{\"outlinewidth\":0,\"ticks\":\"\"}},\"type\":\"scattercarpet\"}],\"scattergeo\":[{\"marker\":{\"colorbar\":{\"outlinewidth\":0,\"ticks\":\"\"}},\"type\":\"scattergeo\"}],\"scattergl\":[{\"marker\":{\"colorbar\":{\"outlinewidth\":0,\"ticks\":\"\"}},\"type\":\"scattergl\"}],\"scattermapbox\":[{\"marker\":{\"colorbar\":{\"outlinewidth\":0,\"ticks\":\"\"}},\"type\":\"scattermapbox\"}],\"scatterpolar\":[{\"marker\":{\"colorbar\":{\"outlinewidth\":0,\"ticks\":\"\"}},\"type\":\"scatterpolar\"}],\"scatterpolargl\":[{\"marker\":{\"colorbar\":{\"outlinewidth\":0,\"ticks\":\"\"}},\"type\":\"scatterpolargl\"}],\"scatterternary\":[{\"marker\":{\"colorbar\":{\"outlinewidth\":0,\"ticks\":\"\"}},\"type\":\"scatterternary\"}],\"surface\":[{\"colorbar\":{\"outlinewidth\":0,\"ticks\":\"\"},\"colorscale\":[[0.0,\"#0d0887\"],[0.1111111111111111,\"#46039f\"],[0.2222222222222222,\"#7201a8\"],[0.3333333333333333,\"#9c179e\"],[0.4444444444444444,\"#bd3786\"],[0.5555555555555556,\"#d8576b\"],[0.6666666666666666,\"#ed7953\"],[0.7777777777777778,\"#fb9f3a\"],[0.8888888888888888,\"#fdca26\"],[1.0,\"#f0f921\"]],\"type\":\"surface\"}],\"table\":[{\"cells\":{\"fill\":{\"color\":\"#EBF0F8\"},\"line\":{\"color\":\"white\"}},\"header\":{\"fill\":{\"color\":\"#C8D4E3\"},\"line\":{\"color\":\"white\"}},\"type\":\"table\"}]},\"layout\":{\"annotationdefaults\":{\"arrowcolor\":\"#2a3f5f\",\"arrowhead\":0,\"arrowwidth\":1},\"autotypenumbers\":\"strict\",\"coloraxis\":{\"colorbar\":{\"outlinewidth\":0,\"ticks\":\"\"}},\"colorscale\":{\"diverging\":[[0,\"#8e0152\"],[0.1,\"#c51b7d\"],[0.2,\"#de77ae\"],[0.3,\"#f1b6da\"],[0.4,\"#fde0ef\"],[0.5,\"#f7f7f7\"],[0.6,\"#e6f5d0\"],[0.7,\"#b8e186\"],[0.8,\"#7fbc41\"],[0.9,\"#4d9221\"],[1,\"#276419\"]],\"sequential\":[[0.0,\"#0d0887\"],[0.1111111111111111,\"#46039f\"],[0.2222222222222222,\"#7201a8\"],[0.3333333333333333,\"#9c179e\"],[0.4444444444444444,\"#bd3786\"],[0.5555555555555556,\"#d8576b\"],[0.6666666666666666,\"#ed7953\"],[0.7777777777777778,\"#fb9f3a\"],[0.8888888888888888,\"#fdca26\"],[1.0,\"#f0f921\"]],\"sequentialminus\":[[0.0,\"#0d0887\"],[0.1111111111111111,\"#46039f\"],[0.2222222222222222,\"#7201a8\"],[0.3333333333333333,\"#9c179e\"],[0.4444444444444444,\"#bd3786\"],[0.5555555555555556,\"#d8576b\"],[0.6666666666666666,\"#ed7953\"],[0.7777777777777778,\"#fb9f3a\"],[0.8888888888888888,\"#fdca26\"],[1.0,\"#f0f921\"]]},\"colorway\":[\"#636efa\",\"#EF553B\",\"#00cc96\",\"#ab63fa\",\"#FFA15A\",\"#19d3f3\",\"#FF6692\",\"#B6E880\",\"#FF97FF\",\"#FECB52\"],\"font\":{\"color\":\"#2a3f5f\"},\"geo\":{\"bgcolor\":\"white\",\"lakecolor\":\"white\",\"landcolor\":\"#E5ECF6\",\"showlakes\":true,\"showland\":true,\"subunitcolor\":\"white\"},\"hoverlabel\":{\"align\":\"left\"},\"hovermode\":\"closest\",\"mapbox\":{\"style\":\"light\"},\"paper_bgcolor\":\"white\",\"plot_bgcolor\":\"#E5ECF6\",\"polar\":{\"angularaxis\":{\"gridcolor\":\"white\",\"linecolor\":\"white\",\"ticks\":\"\"},\"bgcolor\":\"#E5ECF6\",\"radialaxis\":{\"gridcolor\":\"white\",\"linecolor\":\"white\",\"ticks\":\"\"}},\"scene\":{\"xaxis\":{\"backgroundcolor\":\"#E5ECF6\",\"gridcolor\":\"white\",\"gridwidth\":2,\"linecolor\":\"white\",\"showbackground\":true,\"ticks\":\"\",\"zerolinecolor\":\"white\"},\"yaxis\":{\"backgroundcolor\":\"#E5ECF6\",\"gridcolor\":\"white\",\"gridwidth\":2,\"linecolor\":\"white\",\"showbackground\":true,\"ticks\":\"\",\"zerolinecolor\":\"white\"},\"zaxis\":{\"backgroundcolor\":\"#E5ECF6\",\"gridcolor\":\"white\",\"gridwidth\":2,\"linecolor\":\"white\",\"showbackground\":true,\"ticks\":\"\",\"zerolinecolor\":\"white\"}},\"shapedefaults\":{\"line\":{\"color\":\"#2a3f5f\"}},\"ternary\":{\"aaxis\":{\"gridcolor\":\"white\",\"linecolor\":\"white\",\"ticks\":\"\"},\"baxis\":{\"gridcolor\":\"white\",\"linecolor\":\"white\",\"ticks\":\"\"},\"bgcolor\":\"#E5ECF6\",\"caxis\":{\"gridcolor\":\"white\",\"linecolor\":\"white\",\"ticks\":\"\"}},\"title\":{\"x\":0.05},\"xaxis\":{\"automargin\":true,\"gridcolor\":\"white\",\"linecolor\":\"white\",\"ticks\":\"\",\"title\":{\"standoff\":15},\"zerolinecolor\":\"white\",\"zerolinewidth\":2},\"yaxis\":{\"automargin\":true,\"gridcolor\":\"white\",\"linecolor\":\"white\",\"ticks\":\"\",\"title\":{\"standoff\":15},\"zerolinecolor\":\"white\",\"zerolinewidth\":2}}},\"xaxis\":{\"anchor\":\"y\",\"domain\":[0.0,1.0],\"title\":{\"text\":\"x\"}},\"yaxis\":{\"anchor\":\"x\",\"domain\":[0.0,1.0],\"title\":{\"text\":\"y\"}},\"legend\":{\"tracegroupgap\":0},\"margin\":{\"t\":60}},                        {\"responsive\": true}                    ).then(function(){\n",
              "                            \n",
              "var gd = document.getElementById('0f5f1931-2175-40ba-a15d-08fa1b411146');\n",
              "var x = new MutationObserver(function (mutations, observer) {{\n",
              "        var display = window.getComputedStyle(gd).display;\n",
              "        if (!display || display === 'none') {{\n",
              "            console.log([gd, 'removed!']);\n",
              "            Plotly.purge(gd);\n",
              "            observer.disconnect();\n",
              "        }}\n",
              "}});\n",
              "\n",
              "// Listen for the removal of the full notebook cells\n",
              "var notebookContainer = gd.closest('#notebook-container');\n",
              "if (notebookContainer) {{\n",
              "    x.observe(notebookContainer, {childList: true});\n",
              "}}\n",
              "\n",
              "// Listen for the clearing of the current output cell\n",
              "var outputEl = gd.closest('.output');\n",
              "if (outputEl) {{\n",
              "    x.observe(outputEl, {childList: true});\n",
              "}}\n",
              "\n",
              "                        })                };                            </script>        </div>\n",
              "</body>\n",
              "</html>"
            ]
          },
          "metadata": {}
        }
      ]
    },
    {
      "cell_type": "code",
      "source": [],
      "metadata": {
        "id": "R2fjRPPce4Dt"
      },
      "execution_count": null,
      "outputs": []
    },
    {
      "cell_type": "markdown",
      "source": [
        "**Conclusiones**\n",
        "\n",
        "Elegí un dataset de recetas. Al no ser muy grande, tomé la decisión de entrenarlo con pocas dimensiones y un buen número de epochs. \n",
        "\n",
        "Observé que al traer las palabras más similares a palabras como papas, trae palabras que refieren a la familia de los tubérculos. \n",
        "\n",
        "Otro ejemplo interesante es el de \"pasta\" que en los primeros resultados trae distintos tipos de pasta: fusilli, espaghetti, ravioles. \n",
        "\n",
        "El dataset contiene muchos typos y los embeddings capturan la similaridad entre la palabra canónica y sus versiones mal escritas: \n",
        "\n",
        "Ejemplo: entre las palabras más similares a \"pimienta\" se encuentran \"pimenta\" y \"pimineta\". Es interesante ver que entre los más relacionados se encuentran otros condimentos. \n"
      ],
      "metadata": {
        "id": "vhkphigaolav"
      }
    },
    {
      "cell_type": "code",
      "source": [],
      "metadata": {
        "id": "QKRwWNwzpbBn"
      },
      "execution_count": null,
      "outputs": []
    }
  ]
}