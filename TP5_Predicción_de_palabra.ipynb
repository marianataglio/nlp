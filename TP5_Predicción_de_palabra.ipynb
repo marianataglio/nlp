{
  "nbformat": 4,
  "nbformat_minor": 0,
  "metadata": {
    "colab": {
      "provenance": []
    },
    "kernelspec": {
      "name": "python3",
      "display_name": "Python 3"
    },
    "language_info": {
      "name": "python"
    }
  },
  "cells": [
    {
      "cell_type": "code",
      "execution_count": 2,
      "metadata": {
        "id": "yLQXcLFYrLmh"
      },
      "outputs": [],
      "source": [
        "import random\n",
        "import io\n",
        "import pickle\n",
        "\n",
        "import numpy as np\n",
        "import pandas as pd\n",
        "\n",
        "from tensorflow import keras\n",
        "from tensorflow.keras import layers\n",
        "from keras.utils.np_utils import to_categorical\n",
        "from keras.models import Sequential\n",
        "from keras.layers import Dense, LSTM, Embedding, Dropout"
      ]
    },
    {
      "cell_type": "code",
      "source": [
        "from google.colab import drive\n",
        "drive.mount('/content/drive')"
      ],
      "metadata": {
        "colab": {
          "base_uri": "https://localhost:8080/"
        },
        "id": "8QHSuN7u2Fo9",
        "outputId": "b2c3f577-ed18-49dd-fbf9-5ac29b68325e"
      },
      "execution_count": 3,
      "outputs": [
        {
          "output_type": "stream",
          "name": "stdout",
          "text": [
            "Drive already mounted at /content/drive; to attempt to forcibly remount, call drive.mount(\"/content/drive\", force_remount=True).\n"
          ]
        }
      ]
    },
    {
      "cell_type": "code",
      "source": [
        "pd.read_csv?\n"
      ],
      "metadata": {
        "id": "KyNqrqVT28oM"
      },
      "execution_count": 4,
      "outputs": []
    },
    {
      "cell_type": "code",
      "source": [
        "root_path = 'gdrive/My Drive/'\n",
        "df = pd.read_csv(\n",
        "    '/content/drive/MyDrive/twitter.zip', compression='zip', \n",
        "    encoding_errors='ignore', on_bad_lines='skip',\n",
        "  names=[\"id\", \"date\", \"query\", \"user\", \"content\"],\n",
        "  header=None, nrows=1000\n",
        ")"
      ],
      "metadata": {
        "id": "whF11wIT2OnD"
      },
      "execution_count": 5,
      "outputs": []
    },
    {
      "cell_type": "code",
      "source": [
        "df.head()"
      ],
      "metadata": {
        "colab": {
          "base_uri": "https://localhost:8080/",
          "height": 206
        },
        "id": "1kFl-kQM2pmo",
        "outputId": "f231dd98-0474-4050-c0c7-daf26655cb21"
      },
      "execution_count": 6,
      "outputs": [
        {
          "output_type": "execute_result",
          "data": {
            "text/plain": [
              "           id                          date     query             user  \\\n",
              "0  1467810369  Mon Apr 06 22:19:45 PDT 2009  NO_QUERY  _TheSpecialOne_   \n",
              "0  1467810672  Mon Apr 06 22:19:49 PDT 2009  NO_QUERY    scotthamilton   \n",
              "0  1467810917  Mon Apr 06 22:19:53 PDT 2009  NO_QUERY         mattycus   \n",
              "0  1467811184  Mon Apr 06 22:19:57 PDT 2009  NO_QUERY          ElleCTF   \n",
              "0  1467811193  Mon Apr 06 22:19:57 PDT 2009  NO_QUERY           Karoli   \n",
              "\n",
              "                                             content  \n",
              "0  @switchfoot http://twitpic.com/2y1zl - Awww, t...  \n",
              "0  is upset that he can't update his Facebook by ...  \n",
              "0  @Kenichan I dived many times for the ball. Man...  \n",
              "0    my whole body feels itchy and like its on fire   \n",
              "0  @nationwideclass no, it's not behaving at all....  "
            ],
            "text/html": [
              "\n",
              "  <div id=\"df-3550ea18-ce05-4c05-b594-7346abe8fc4c\">\n",
              "    <div class=\"colab-df-container\">\n",
              "      <div>\n",
              "<style scoped>\n",
              "    .dataframe tbody tr th:only-of-type {\n",
              "        vertical-align: middle;\n",
              "    }\n",
              "\n",
              "    .dataframe tbody tr th {\n",
              "        vertical-align: top;\n",
              "    }\n",
              "\n",
              "    .dataframe thead th {\n",
              "        text-align: right;\n",
              "    }\n",
              "</style>\n",
              "<table border=\"1\" class=\"dataframe\">\n",
              "  <thead>\n",
              "    <tr style=\"text-align: right;\">\n",
              "      <th></th>\n",
              "      <th>id</th>\n",
              "      <th>date</th>\n",
              "      <th>query</th>\n",
              "      <th>user</th>\n",
              "      <th>content</th>\n",
              "    </tr>\n",
              "  </thead>\n",
              "  <tbody>\n",
              "    <tr>\n",
              "      <th>0</th>\n",
              "      <td>1467810369</td>\n",
              "      <td>Mon Apr 06 22:19:45 PDT 2009</td>\n",
              "      <td>NO_QUERY</td>\n",
              "      <td>_TheSpecialOne_</td>\n",
              "      <td>@switchfoot http://twitpic.com/2y1zl - Awww, t...</td>\n",
              "    </tr>\n",
              "    <tr>\n",
              "      <th>0</th>\n",
              "      <td>1467810672</td>\n",
              "      <td>Mon Apr 06 22:19:49 PDT 2009</td>\n",
              "      <td>NO_QUERY</td>\n",
              "      <td>scotthamilton</td>\n",
              "      <td>is upset that he can't update his Facebook by ...</td>\n",
              "    </tr>\n",
              "    <tr>\n",
              "      <th>0</th>\n",
              "      <td>1467810917</td>\n",
              "      <td>Mon Apr 06 22:19:53 PDT 2009</td>\n",
              "      <td>NO_QUERY</td>\n",
              "      <td>mattycus</td>\n",
              "      <td>@Kenichan I dived many times for the ball. Man...</td>\n",
              "    </tr>\n",
              "    <tr>\n",
              "      <th>0</th>\n",
              "      <td>1467811184</td>\n",
              "      <td>Mon Apr 06 22:19:57 PDT 2009</td>\n",
              "      <td>NO_QUERY</td>\n",
              "      <td>ElleCTF</td>\n",
              "      <td>my whole body feels itchy and like its on fire</td>\n",
              "    </tr>\n",
              "    <tr>\n",
              "      <th>0</th>\n",
              "      <td>1467811193</td>\n",
              "      <td>Mon Apr 06 22:19:57 PDT 2009</td>\n",
              "      <td>NO_QUERY</td>\n",
              "      <td>Karoli</td>\n",
              "      <td>@nationwideclass no, it's not behaving at all....</td>\n",
              "    </tr>\n",
              "  </tbody>\n",
              "</table>\n",
              "</div>\n",
              "      <button class=\"colab-df-convert\" onclick=\"convertToInteractive('df-3550ea18-ce05-4c05-b594-7346abe8fc4c')\"\n",
              "              title=\"Convert this dataframe to an interactive table.\"\n",
              "              style=\"display:none;\">\n",
              "        \n",
              "  <svg xmlns=\"http://www.w3.org/2000/svg\" height=\"24px\"viewBox=\"0 0 24 24\"\n",
              "       width=\"24px\">\n",
              "    <path d=\"M0 0h24v24H0V0z\" fill=\"none\"/>\n",
              "    <path d=\"M18.56 5.44l.94 2.06.94-2.06 2.06-.94-2.06-.94-.94-2.06-.94 2.06-2.06.94zm-11 1L8.5 8.5l.94-2.06 2.06-.94-2.06-.94L8.5 2.5l-.94 2.06-2.06.94zm10 10l.94 2.06.94-2.06 2.06-.94-2.06-.94-.94-2.06-.94 2.06-2.06.94z\"/><path d=\"M17.41 7.96l-1.37-1.37c-.4-.4-.92-.59-1.43-.59-.52 0-1.04.2-1.43.59L10.3 9.45l-7.72 7.72c-.78.78-.78 2.05 0 2.83L4 21.41c.39.39.9.59 1.41.59.51 0 1.02-.2 1.41-.59l7.78-7.78 2.81-2.81c.8-.78.8-2.07 0-2.86zM5.41 20L4 18.59l7.72-7.72 1.47 1.35L5.41 20z\"/>\n",
              "  </svg>\n",
              "      </button>\n",
              "      \n",
              "  <style>\n",
              "    .colab-df-container {\n",
              "      display:flex;\n",
              "      flex-wrap:wrap;\n",
              "      gap: 12px;\n",
              "    }\n",
              "\n",
              "    .colab-df-convert {\n",
              "      background-color: #E8F0FE;\n",
              "      border: none;\n",
              "      border-radius: 50%;\n",
              "      cursor: pointer;\n",
              "      display: none;\n",
              "      fill: #1967D2;\n",
              "      height: 32px;\n",
              "      padding: 0 0 0 0;\n",
              "      width: 32px;\n",
              "    }\n",
              "\n",
              "    .colab-df-convert:hover {\n",
              "      background-color: #E2EBFA;\n",
              "      box-shadow: 0px 1px 2px rgba(60, 64, 67, 0.3), 0px 1px 3px 1px rgba(60, 64, 67, 0.15);\n",
              "      fill: #174EA6;\n",
              "    }\n",
              "\n",
              "    [theme=dark] .colab-df-convert {\n",
              "      background-color: #3B4455;\n",
              "      fill: #D2E3FC;\n",
              "    }\n",
              "\n",
              "    [theme=dark] .colab-df-convert:hover {\n",
              "      background-color: #434B5C;\n",
              "      box-shadow: 0px 1px 3px 1px rgba(0, 0, 0, 0.15);\n",
              "      filter: drop-shadow(0px 1px 2px rgba(0, 0, 0, 0.3));\n",
              "      fill: #FFFFFF;\n",
              "    }\n",
              "  </style>\n",
              "\n",
              "      <script>\n",
              "        const buttonEl =\n",
              "          document.querySelector('#df-3550ea18-ce05-4c05-b594-7346abe8fc4c button.colab-df-convert');\n",
              "        buttonEl.style.display =\n",
              "          google.colab.kernel.accessAllowed ? 'block' : 'none';\n",
              "\n",
              "        async function convertToInteractive(key) {\n",
              "          const element = document.querySelector('#df-3550ea18-ce05-4c05-b594-7346abe8fc4c');\n",
              "          const dataTable =\n",
              "            await google.colab.kernel.invokeFunction('convertToInteractive',\n",
              "                                                     [key], {});\n",
              "          if (!dataTable) return;\n",
              "\n",
              "          const docLinkHtml = 'Like what you see? Visit the ' +\n",
              "            '<a target=\"_blank\" href=https://colab.research.google.com/notebooks/data_table.ipynb>data table notebook</a>'\n",
              "            + ' to learn more about interactive tables.';\n",
              "          element.innerHTML = '';\n",
              "          dataTable['output_type'] = 'display_data';\n",
              "          await google.colab.output.renderOutput(dataTable, element);\n",
              "          const docLink = document.createElement('div');\n",
              "          docLink.innerHTML = docLinkHtml;\n",
              "          element.appendChild(docLink);\n",
              "        }\n",
              "      </script>\n",
              "    </div>\n",
              "  </div>\n",
              "  "
            ]
          },
          "metadata": {},
          "execution_count": 6
        }
      ]
    },
    {
      "cell_type": "code",
      "source": [
        "print(\"Cantidad de documentos:\", df.shape[0])"
      ],
      "metadata": {
        "colab": {
          "base_uri": "https://localhost:8080/"
        },
        "id": "1gdZVx4irTc9",
        "outputId": "74a03002-f4cc-48ed-8c47-fd7ebc25cd5b"
      },
      "execution_count": 7,
      "outputs": [
        {
          "output_type": "stream",
          "name": "stdout",
          "text": [
            "Cantidad de documentos: 1000\n"
          ]
        }
      ]
    },
    {
      "cell_type": "markdown",
      "source": [
        "Preprocessing"
      ],
      "metadata": {
        "id": "fflUr8KArU6T"
      }
    },
    {
      "cell_type": "code",
      "source": [
        "from keras.preprocessing.text import Tokenizer # equivalente a ltokenizer de nltk\n",
        "from keras.preprocessing.text import text_to_word_sequence # equivalente a word_teokenize de nltk\n",
        "from keras_preprocessing.sequence import pad_sequences\n",
        "\n",
        "# largo de la secuencia, incluye seq input + word output\n",
        "train_len = 15"
      ],
      "metadata": {
        "id": "_KwVD1sIrXCB"
      },
      "execution_count": 8,
      "outputs": []
    },
    {
      "cell_type": "code",
      "source": [
        "# Ejemplo de como transformar una oración a tokens usando keras\n",
        "text = df.iloc[0,4]\n",
        "text"
      ],
      "metadata": {
        "colab": {
          "base_uri": "https://localhost:8080/",
          "height": 35
        },
        "id": "DD4kxIq_rXiS",
        "outputId": "6bd8f35d-0270-4da7-ed59-b8aa056680e9"
      },
      "execution_count": 9,
      "outputs": [
        {
          "output_type": "execute_result",
          "data": {
            "text/plain": [
              "\"@switchfoot http://twitpic.com/2y1zl - Awww, that's a bummer.  You shoulda got David Carr of Third Day to do it. ;D\""
            ],
            "application/vnd.google.colaboratory.intrinsic+json": {
              "type": "string"
            }
          },
          "metadata": {},
          "execution_count": 9
        }
      ]
    },
    {
      "cell_type": "code",
      "source": [
        "tokens = text_to_word_sequence(text) # entran oraciones -> salen vectores de N posiciones (tokens)\n",
        "tokens"
      ],
      "metadata": {
        "colab": {
          "base_uri": "https://localhost:8080/"
        },
        "id": "YPWJlZcrraU-",
        "outputId": "8b19c6cf-5b19-4e6f-b9cc-c7df831e9b87"
      },
      "execution_count": 10,
      "outputs": [
        {
          "output_type": "execute_result",
          "data": {
            "text/plain": [
              "['switchfoot',\n",
              " 'http',\n",
              " 'twitpic',\n",
              " 'com',\n",
              " '2y1zl',\n",
              " 'awww',\n",
              " \"that's\",\n",
              " 'a',\n",
              " 'bummer',\n",
              " 'you',\n",
              " 'shoulda',\n",
              " 'got',\n",
              " 'david',\n",
              " 'carr',\n",
              " 'of',\n",
              " 'third',\n",
              " 'day',\n",
              " 'to',\n",
              " 'do',\n",
              " 'it',\n",
              " 'd']"
            ]
          },
          "metadata": {},
          "execution_count": 10
        }
      ]
    },
    {
      "cell_type": "code",
      "source": [
        "# Recorrer todas las filas y transformar las oraciones\n",
        "# en secuencias de palabras\n",
        "sentence_tokens = []\n",
        "for _, row in df.iterrows():\n",
        "    sentence_tokens.append(text_to_word_sequence(row[\"content\"]))"
      ],
      "metadata": {
        "id": "UVbepyx6rckd"
      },
      "execution_count": 11,
      "outputs": []
    },
    {
      "cell_type": "code",
      "source": [
        "sentence_tokens[:2]"
      ],
      "metadata": {
        "colab": {
          "base_uri": "https://localhost:8080/"
        },
        "id": "r8nvmciyre2N",
        "outputId": "875cd635-c906-4bed-8461-8c8292578ffa"
      },
      "execution_count": 12,
      "outputs": [
        {
          "output_type": "execute_result",
          "data": {
            "text/plain": [
              "[['switchfoot',\n",
              "  'http',\n",
              "  'twitpic',\n",
              "  'com',\n",
              "  '2y1zl',\n",
              "  'awww',\n",
              "  \"that's\",\n",
              "  'a',\n",
              "  'bummer',\n",
              "  'you',\n",
              "  'shoulda',\n",
              "  'got',\n",
              "  'david',\n",
              "  'carr',\n",
              "  'of',\n",
              "  'third',\n",
              "  'day',\n",
              "  'to',\n",
              "  'do',\n",
              "  'it',\n",
              "  'd'],\n",
              " ['is',\n",
              "  'upset',\n",
              "  'that',\n",
              "  'he',\n",
              "  \"can't\",\n",
              "  'update',\n",
              "  'his',\n",
              "  'facebook',\n",
              "  'by',\n",
              "  'texting',\n",
              "  'it',\n",
              "  'and',\n",
              "  'might',\n",
              "  'cry',\n",
              "  'as',\n",
              "  'a',\n",
              "  'result',\n",
              "  'school',\n",
              "  'today',\n",
              "  'also',\n",
              "  'blah']]"
            ]
          },
          "metadata": {},
          "execution_count": 12
        }
      ]
    },
    {
      "cell_type": "code",
      "source": [
        "# Código para hacer el desfazaje de las palabras\n",
        "# según el train_len\n",
        "text_sequences = []\n",
        "\n",
        "for i in range(train_len, len(tokens)):\n",
        "  seq = tokens[i-train_len:i]\n",
        "  text_sequences.append(seq)"
      ],
      "metadata": {
        "id": "yYb0v78frgc8"
      },
      "execution_count": 13,
      "outputs": []
    },
    {
      "cell_type": "code",
      "source": [
        "text_sequences"
      ],
      "metadata": {
        "colab": {
          "base_uri": "https://localhost:8080/"
        },
        "id": "SdmE8oOlrhfl",
        "outputId": "6c9b099f-b8d1-4848-f02b-52d37d203ca7"
      },
      "execution_count": 14,
      "outputs": [
        {
          "output_type": "execute_result",
          "data": {
            "text/plain": [
              "[['switchfoot',\n",
              "  'http',\n",
              "  'twitpic',\n",
              "  'com',\n",
              "  '2y1zl',\n",
              "  'awww',\n",
              "  \"that's\",\n",
              "  'a',\n",
              "  'bummer',\n",
              "  'you',\n",
              "  'shoulda',\n",
              "  'got',\n",
              "  'david',\n",
              "  'carr',\n",
              "  'of'],\n",
              " ['http',\n",
              "  'twitpic',\n",
              "  'com',\n",
              "  '2y1zl',\n",
              "  'awww',\n",
              "  \"that's\",\n",
              "  'a',\n",
              "  'bummer',\n",
              "  'you',\n",
              "  'shoulda',\n",
              "  'got',\n",
              "  'david',\n",
              "  'carr',\n",
              "  'of',\n",
              "  'third'],\n",
              " ['twitpic',\n",
              "  'com',\n",
              "  '2y1zl',\n",
              "  'awww',\n",
              "  \"that's\",\n",
              "  'a',\n",
              "  'bummer',\n",
              "  'you',\n",
              "  'shoulda',\n",
              "  'got',\n",
              "  'david',\n",
              "  'carr',\n",
              "  'of',\n",
              "  'third',\n",
              "  'day'],\n",
              " ['com',\n",
              "  '2y1zl',\n",
              "  'awww',\n",
              "  \"that's\",\n",
              "  'a',\n",
              "  'bummer',\n",
              "  'you',\n",
              "  'shoulda',\n",
              "  'got',\n",
              "  'david',\n",
              "  'carr',\n",
              "  'of',\n",
              "  'third',\n",
              "  'day',\n",
              "  'to'],\n",
              " ['2y1zl',\n",
              "  'awww',\n",
              "  \"that's\",\n",
              "  'a',\n",
              "  'bummer',\n",
              "  'you',\n",
              "  'shoulda',\n",
              "  'got',\n",
              "  'david',\n",
              "  'carr',\n",
              "  'of',\n",
              "  'third',\n",
              "  'day',\n",
              "  'to',\n",
              "  'do'],\n",
              " ['awww',\n",
              "  \"that's\",\n",
              "  'a',\n",
              "  'bummer',\n",
              "  'you',\n",
              "  'shoulda',\n",
              "  'got',\n",
              "  'david',\n",
              "  'carr',\n",
              "  'of',\n",
              "  'third',\n",
              "  'day',\n",
              "  'to',\n",
              "  'do',\n",
              "  'it']]"
            ]
          },
          "metadata": {},
          "execution_count": 14
        }
      ]
    },
    {
      "cell_type": "markdown",
      "source": [
        "Crear vectores"
      ],
      "metadata": {
        "id": "3cIlnO_LrqFp"
      }
    },
    {
      "cell_type": "code",
      "source": [
        "tok = Tokenizer() \n",
        "\n",
        "# El tokeinzer \"aprende\" las palabras que se usaran\n",
        "# Se construye (fit) una vez por proyecto, se aplica N veces (tal cual un encoder)\n",
        "tok.fit_on_texts(text_sequences) \n",
        "\n",
        "# Convertimos las palabras a números\n",
        "# entran palabras -> salen números\n",
        "sequences = tok.texts_to_sequences(text_sequences)"
      ],
      "metadata": {
        "id": "F2OsuDd7rihG"
      },
      "execution_count": 15,
      "outputs": []
    },
    {
      "cell_type": "code",
      "source": [
        "sequences"
      ],
      "metadata": {
        "colab": {
          "base_uri": "https://localhost:8080/"
        },
        "id": "LXSzNfTJruVk",
        "outputId": "33340bc3-61d1-4f61-fa30-105db5298dfe"
      },
      "execution_count": 16,
      "outputs": [
        {
          "output_type": "execute_result",
          "data": {
            "text/plain": [
              "[[19, 17, 15, 13, 11, 1, 2, 3, 4, 5, 6, 7, 8, 9, 10],\n",
              " [17, 15, 13, 11, 1, 2, 3, 4, 5, 6, 7, 8, 9, 10, 12],\n",
              " [15, 13, 11, 1, 2, 3, 4, 5, 6, 7, 8, 9, 10, 12, 14],\n",
              " [13, 11, 1, 2, 3, 4, 5, 6, 7, 8, 9, 10, 12, 14, 16],\n",
              " [11, 1, 2, 3, 4, 5, 6, 7, 8, 9, 10, 12, 14, 16, 18],\n",
              " [1, 2, 3, 4, 5, 6, 7, 8, 9, 10, 12, 14, 16, 18, 20]]"
            ]
          },
          "metadata": {},
          "execution_count": 16
        }
      ]
    },
    {
      "cell_type": "code",
      "source": [
        "# Cantidad de casos (doc) de entrada\n",
        "print(tok.document_count)"
      ],
      "metadata": {
        "colab": {
          "base_uri": "https://localhost:8080/"
        },
        "id": "ut0dwbw8rumt",
        "outputId": "0b245d57-35e9-4752-a90a-cca2e3878aa0"
      },
      "execution_count": 17,
      "outputs": [
        {
          "output_type": "stream",
          "name": "stdout",
          "text": [
            "6\n"
          ]
        }
      ]
    },
    {
      "cell_type": "code",
      "source": [
        "# Cantidad de veces que aparece cada palabra\n",
        "print(len(tok.word_counts))"
      ],
      "metadata": {
        "colab": {
          "base_uri": "https://localhost:8080/"
        },
        "id": "VF8TzwC2rxIM",
        "outputId": "4bbb981f-9247-4771-fed9-408e0fc09d61"
      },
      "execution_count": 18,
      "outputs": [
        {
          "output_type": "stream",
          "name": "stdout",
          "text": [
            "20\n"
          ]
        }
      ]
    },
    {
      "cell_type": "code",
      "source": [
        "# El índice para cada palabra\n",
        "# El sistema las ordena de las más populares a las menos populares\n",
        "print(tok.word_index)"
      ],
      "metadata": {
        "colab": {
          "base_uri": "https://localhost:8080/"
        },
        "id": "AfwoG8YarzMF",
        "outputId": "cdfae1b0-735b-4f5e-b6da-3bd20def29a6"
      },
      "execution_count": 19,
      "outputs": [
        {
          "output_type": "stream",
          "name": "stdout",
          "text": [
            "{'awww': 1, \"that's\": 2, 'a': 3, 'bummer': 4, 'you': 5, 'shoulda': 6, 'got': 7, 'david': 8, 'carr': 9, 'of': 10, '2y1zl': 11, 'third': 12, 'com': 13, 'day': 14, 'twitpic': 15, 'to': 16, 'http': 17, 'do': 18, 'switchfoot': 19, 'it': 20}\n"
          ]
        }
      ]
    },
    {
      "cell_type": "code",
      "source": [
        "# Cantidad de veces quea aparece cada palabra en cada \"documento\"\n",
        "# (1 documento = 1 caso de entrada)\n",
        "print(tok.word_docs)"
      ],
      "metadata": {
        "colab": {
          "base_uri": "https://localhost:8080/"
        },
        "id": "C5_tHrEgrzbL",
        "outputId": "e166d723-177b-4a62-f8f8-220f972f4cc5"
      },
      "execution_count": 20,
      "outputs": [
        {
          "output_type": "stream",
          "name": "stdout",
          "text": [
            "defaultdict(<class 'int'>, {'com': 4, 'got': 6, 'a': 6, 'carr': 6, 'http': 2, 'switchfoot': 1, '2y1zl': 5, 'you': 6, 'shoulda': 6, 'david': 6, 'bummer': 6, 'awww': 6, 'of': 6, 'twitpic': 3, \"that's\": 6, 'third': 5, 'day': 4, 'to': 3, 'do': 2, 'it': 1})\n"
          ]
        }
      ]
    },
    {
      "cell_type": "markdown",
      "source": [
        "Preprocesamiento completo"
      ],
      "metadata": {
        "id": "9YEsUMCqr1zL"
      }
    },
    {
      "cell_type": "code",
      "source": [
        "df.loc[:15,\"content\"]"
      ],
      "metadata": {
        "colab": {
          "base_uri": "https://localhost:8080/"
        },
        "id": "yqFJG0XSr26H",
        "outputId": "715e5cf4-4161-4f78-e6a4-6f644ec97de1"
      },
      "execution_count": 21,
      "outputs": [
        {
          "output_type": "execute_result",
          "data": {
            "text/plain": [
              "0    @switchfoot http://twitpic.com/2y1zl - Awww, t...\n",
              "0    is upset that he can't update his Facebook by ...\n",
              "0    @Kenichan I dived many times for the ball. Man...\n",
              "0      my whole body feels itchy and like its on fire \n",
              "0    @nationwideclass no, it's not behaving at all....\n",
              "                           ...                        \n",
              "0    @dkoenigs thanks man.  I'm so very grateful.  ...\n",
              "0    @t_wolfe  i miss u too. i'm totally comin back...\n",
              "0    @sniffinglue ohhh. I love it. ps I'm sad we di...\n",
              "0            And somehow I still end up in this place \n",
              "0           @kisluvkis oh that is very sad, poor boy. \n",
              "Name: content, Length: 1000, dtype: object"
            ]
          },
          "metadata": {},
          "execution_count": 21
        }
      ]
    },
    {
      "cell_type": "code",
      "source": [],
      "metadata": {
        "id": "9MHEcapP5R87"
      },
      "execution_count": 21,
      "outputs": []
    },
    {
      "cell_type": "code",
      "source": [
        "# Concatenamos todos los rows en un solo valor\n",
        "corpus = df[\"content\"]\n",
        "corpus"
      ],
      "metadata": {
        "colab": {
          "base_uri": "https://localhost:8080/"
        },
        "id": "09K1N6-mr6ej",
        "outputId": "aa94473c-b3c0-4a1e-f196-5d480baa696a"
      },
      "execution_count": 22,
      "outputs": [
        {
          "output_type": "execute_result",
          "data": {
            "text/plain": [
              "0    @switchfoot http://twitpic.com/2y1zl - Awww, t...\n",
              "0    is upset that he can't update his Facebook by ...\n",
              "0    @Kenichan I dived many times for the ball. Man...\n",
              "0      my whole body feels itchy and like its on fire \n",
              "0    @nationwideclass no, it's not behaving at all....\n",
              "                           ...                        \n",
              "0    @dkoenigs thanks man.  I'm so very grateful.  ...\n",
              "0    @t_wolfe  i miss u too. i'm totally comin back...\n",
              "0    @sniffinglue ohhh. I love it. ps I'm sad we di...\n",
              "0            And somehow I still end up in this place \n",
              "0           @kisluvkis oh that is very sad, poor boy. \n",
              "Name: content, Length: 1000, dtype: object"
            ]
          },
          "metadata": {},
          "execution_count": 22
        }
      ]
    },
    {
      "cell_type": "code",
      "source": [
        "corpus = \"\\n\".join(corpus.tolist())"
      ],
      "metadata": {
        "id": "1QlfDT4X5fan"
      },
      "execution_count": 23,
      "outputs": []
    },
    {
      "cell_type": "code",
      "source": [
        "# Transformar el corpus a tokens\n",
        "tokens=text_to_word_sequence(corpus)\n",
        "# Vistazo general de los primeros tokens\n",
        "tokens[:20]"
      ],
      "metadata": {
        "colab": {
          "base_uri": "https://localhost:8080/"
        },
        "id": "KUpKQ8PKr6zT",
        "outputId": "35f18c37-7259-43d8-8f56-9faaa4420270"
      },
      "execution_count": 24,
      "outputs": [
        {
          "output_type": "execute_result",
          "data": {
            "text/plain": [
              "['switchfoot',\n",
              " 'http',\n",
              " 'twitpic',\n",
              " 'com',\n",
              " '2y1zl',\n",
              " 'awww',\n",
              " \"that's\",\n",
              " 'a',\n",
              " 'bummer',\n",
              " 'you',\n",
              " 'shoulda',\n",
              " 'got',\n",
              " 'david',\n",
              " 'carr',\n",
              " 'of',\n",
              " 'third',\n",
              " 'day',\n",
              " 'to',\n",
              " 'do',\n",
              " 'it']"
            ]
          },
          "metadata": {},
          "execution_count": 24
        }
      ]
    },
    {
      "cell_type": "code",
      "source": [
        "print(\"Cantidad de tokens en el corpus:\", len(tokens))"
      ],
      "metadata": {
        "colab": {
          "base_uri": "https://localhost:8080/"
        },
        "id": "kU8_vSXUr9qB",
        "outputId": "93b670fa-0d46-4604-a37b-12c441b54611"
      },
      "execution_count": 25,
      "outputs": [
        {
          "output_type": "stream",
          "name": "stdout",
          "text": [
            "Cantidad de tokens en el corpus: 13786\n"
          ]
        }
      ]
    },
    {
      "cell_type": "code",
      "source": [
        "# Código para hacer el desfazaje de las palabras\n",
        "# según el train_len\n",
        "text_sequences = []\n",
        "for i in range(train_len, len(tokens)):\n",
        "  seq = tokens[i-train_len:i]\n",
        "  text_sequences.append(seq)"
      ],
      "metadata": {
        "id": "fDlLqiUZsAz0"
      },
      "execution_count": 26,
      "outputs": []
    },
    {
      "cell_type": "code",
      "source": [
        "#text_sequences[:20]"
      ],
      "metadata": {
        "id": "FxBbODs_sBHE"
      },
      "execution_count": 27,
      "outputs": []
    },
    {
      "cell_type": "code",
      "source": [
        "# Proceso de tokenizacion\n",
        "tok = Tokenizer() \n",
        "tok.fit_on_texts(text_sequences) \n",
        "\n",
        "# Convertimos las palabras a números\n",
        "# entran palabras -> salen números\n",
        "sequences = tok.texts_to_sequences(text_sequences)\n",
        "\n",
        "# Damos un vistazo\n",
        "sequences[:20]"
      ],
      "metadata": {
        "colab": {
          "base_uri": "https://localhost:8080/"
        },
        "id": "4TEOZw8JsC91",
        "outputId": "4480cdc2-6f72-467e-bf90-554dd5327b72"
      },
      "execution_count": 28,
      "outputs": [
        {
          "output_type": "execute_result",
          "data": {
            "text/plain": [
              "[[3477, 70, 191, 79, 3476, 300, 190, 5, 3474, 11, 3473, 50, 523, 3472, 12],\n",
              " [70, 191, 79, 3476, 300, 190, 5, 3474, 11, 3473, 50, 523, 3472, 12, 1154],\n",
              " [191, 79, 3476, 300, 190, 5, 3474, 11, 3473, 50, 523, 3472, 12, 1154, 44],\n",
              " [79, 3476, 300, 190, 5, 3474, 11, 3473, 50, 523, 3472, 12, 1154, 44, 2],\n",
              " [3476, 300, 190, 5, 3474, 11, 3473, 50, 523, 3472, 12, 1154, 44, 2, 51],\n",
              " [300, 190, 5, 3474, 11, 3473, 50, 523, 3472, 12, 1154, 44, 2, 51, 9],\n",
              " [190, 5, 3474, 11, 3473, 50, 523, 3472, 12, 1154, 44, 2, 51, 9, 301],\n",
              " [5, 3474, 11, 3473, 50, 523, 3472, 12, 1154, 44, 2, 51, 9, 301, 7],\n",
              " [3474, 11, 3473, 50, 523, 3472, 12, 1154, 44, 2, 51, 9, 301, 7, 258],\n",
              " [11, 3473, 50, 523, 3472, 12, 1154, 44, 2, 51, 9, 301, 7, 258, 16],\n",
              " [3473, 50, 523, 3472, 12, 1154, 44, 2, 51, 9, 301, 7, 258, 16, 87],\n",
              " [50, 523, 3472, 12, 1154, 44, 2, 51, 9, 301, 7, 258, 16, 87, 57],\n",
              " [523, 3472, 12, 1154, 44, 2, 51, 9, 301, 7, 258, 16, 87, 57, 406],\n",
              " [3472, 12, 1154, 44, 2, 51, 9, 301, 7, 258, 16, 87, 57, 406, 193],\n",
              " [12, 1154, 44, 2, 51, 9, 301, 7, 258, 16, 87, 57, 406, 193, 407],\n",
              " [1154, 44, 2, 51, 9, 301, 7, 258, 16, 87, 57, 406, 193, 407, 132],\n",
              " [44, 2, 51, 9, 301, 7, 258, 16, 87, 57, 406, 193, 407, 132, 1155],\n",
              " [2, 51, 9, 301, 7, 258, 16, 87, 57, 406, 193, 407, 132, 1155, 9],\n",
              " [51, 9, 301, 7, 258, 16, 87, 57, 406, 193, 407, 132, 1155, 9, 6],\n",
              " [9, 301, 7, 258, 16, 87, 57, 406, 193, 407, 132, 1155, 9, 6, 203]]"
            ]
          },
          "metadata": {},
          "execution_count": 28
        }
      ]
    },
    {
      "cell_type": "code",
      "source": [
        "print(\"Cantidad de rows del dataset:\", len(sequences))"
      ],
      "metadata": {
        "colab": {
          "base_uri": "https://localhost:8080/"
        },
        "id": "rKVkYJcdsE6d",
        "outputId": "723a9b5b-a222-46e4-80fa-e230a156b1b8"
      },
      "execution_count": 29,
      "outputs": [
        {
          "output_type": "stream",
          "name": "stdout",
          "text": [
            "Cantidad de rows del dataset: 13771\n"
          ]
        }
      ]
    },
    {
      "cell_type": "markdown",
      "source": [
        "Input y target"
      ],
      "metadata": {
        "id": "HJW5jXWbsGcl"
      }
    },
    {
      "cell_type": "code",
      "source": [
        "# Con numpy es muy fácil realizar el slicing de vectores\n",
        "ex = np.array([[1,2,3,4],[5,6,7,8]])\n",
        "ex"
      ],
      "metadata": {
        "colab": {
          "base_uri": "https://localhost:8080/"
        },
        "id": "6AsOwQt3sIEY",
        "outputId": "1d221512-c6d2-4717-abc4-3f817066b69f"
      },
      "execution_count": 30,
      "outputs": [
        {
          "output_type": "execute_result",
          "data": {
            "text/plain": [
              "array([[1, 2, 3, 4],\n",
              "       [5, 6, 7, 8]])"
            ]
          },
          "metadata": {},
          "execution_count": 30
        }
      ]
    },
    {
      "cell_type": "code",
      "source": [
        "# Con numpy es muy fácil realizar el slicing de vectores\n",
        "print(\"Dimension:\", ex.shape)\n",
        "print(\"Todos los elementos:\", ex)\n",
        "print(\"Todos los elementos menos el último:\", ex[:, :-1])"
      ],
      "metadata": {
        "colab": {
          "base_uri": "https://localhost:8080/"
        },
        "id": "6QAvsMPGsKWc",
        "outputId": "a19a0e1b-c209-4a33-8724-2d72807ea3a8"
      },
      "execution_count": 31,
      "outputs": [
        {
          "output_type": "stream",
          "name": "stdout",
          "text": [
            "Dimension: (2, 4)\n",
            "Todos los elementos: [[1 2 3 4]\n",
            " [5 6 7 8]]\n",
            "Todos los elementos menos el último: [[1 2 3]\n",
            " [5 6 7]]\n"
          ]
        }
      ]
    },
    {
      "cell_type": "code",
      "source": [
        "input = ex[:,:-1] # todos los rows, menos la ultima col\n",
        "target = ex[:, -1] # última col de cada row\n",
        "\n",
        "print(\"Input:\", input)\n",
        "print(\"Target:\", target)"
      ],
      "metadata": {
        "colab": {
          "base_uri": "https://localhost:8080/"
        },
        "id": "0beSfJlcsPYq",
        "outputId": "e12b357e-f5ef-450b-ee35-08ac51a686fd"
      },
      "execution_count": 32,
      "outputs": [
        {
          "output_type": "stream",
          "name": "stdout",
          "text": [
            "Input: [[1 2 3]\n",
            " [5 6 7]]\n",
            "Target: [4 8]\n"
          ]
        }
      ]
    },
    {
      "cell_type": "code",
      "source": [
        "arr_sequences = np.array(sequences)\n",
        "x_data = arr_sequences[:,:-1]\n",
        "y_data_int = arr_sequences[:,-1] # aún falta el oneHotEncoder\n",
        "\n",
        "print(x_data.shape)\n",
        "print(y_data_int.shape)"
      ],
      "metadata": {
        "colab": {
          "base_uri": "https://localhost:8080/"
        },
        "id": "Cb3lxBxgsPk6",
        "outputId": "9ee5df52-89b3-4a90-9431-e083cf67e8b7"
      },
      "execution_count": 33,
      "outputs": [
        {
          "output_type": "stream",
          "name": "stdout",
          "text": [
            "(13771, 14)\n",
            "(13771,)\n"
          ]
        }
      ]
    },
    {
      "cell_type": "code",
      "source": [
        "# Palabras del vocabulario\n",
        "tok.index_word"
      ],
      "metadata": {
        "colab": {
          "base_uri": "https://localhost:8080/"
        },
        "id": "TlGLTYxwsSdw",
        "outputId": "ae92687c-690b-4c62-b353-561e16d2a890"
      },
      "execution_count": 34,
      "outputs": [
        {
          "output_type": "execute_result",
          "data": {
            "text/plain": [
              "{1: 'i',\n",
              " 2: 'to',\n",
              " 3: 'the',\n",
              " 4: 'my',\n",
              " 5: 'a',\n",
              " 6: 'and',\n",
              " 7: 'is',\n",
              " 8: 'in',\n",
              " 9: 'it',\n",
              " 10: 'for',\n",
              " 11: 'you',\n",
              " 12: 'of',\n",
              " 13: 'me',\n",
              " 14: 'so',\n",
              " 15: \"i'm\",\n",
              " 16: 'that',\n",
              " 17: 'but',\n",
              " 18: 'have',\n",
              " 19: 'was',\n",
              " 20: 'not',\n",
              " 21: 'on',\n",
              " 22: 'this',\n",
              " 23: 'at',\n",
              " 24: 'just',\n",
              " 25: 'no',\n",
              " 26: 'with',\n",
              " 27: 'out',\n",
              " 28: 'get',\n",
              " 29: 'too',\n",
              " 30: 'all',\n",
              " 31: 'now',\n",
              " 32: 'be',\n",
              " 33: 'sad',\n",
              " 34: 'like',\n",
              " 35: \"don't\",\n",
              " 36: 'up',\n",
              " 37: 'work',\n",
              " 38: \"it's\",\n",
              " 39: 'quot',\n",
              " 40: 'time',\n",
              " 41: 'sleep',\n",
              " 42: 'still',\n",
              " 43: 'go',\n",
              " 44: 'day',\n",
              " 45: 'going',\n",
              " 46: 'really',\n",
              " 47: 'one',\n",
              " 48: 'back',\n",
              " 49: 'know',\n",
              " 50: 'got',\n",
              " 51: 'do',\n",
              " 52: 'today',\n",
              " 53: 'its',\n",
              " 54: 'miss',\n",
              " 55: 'has',\n",
              " 56: 'from',\n",
              " 57: \"can't\",\n",
              " 58: 'how',\n",
              " 59: 'im',\n",
              " 60: 'are',\n",
              " 61: 'am',\n",
              " 62: 'much',\n",
              " 63: 'good',\n",
              " 64: 'they',\n",
              " 65: 'about',\n",
              " 66: 'when',\n",
              " 67: 'want',\n",
              " 68: 'an',\n",
              " 69: 'some',\n",
              " 70: 'http',\n",
              " 71: 'night',\n",
              " 72: 'what',\n",
              " 73: 'why',\n",
              " 74: 'sorry',\n",
              " 75: 'oh',\n",
              " 76: 'see',\n",
              " 77: 'tomorrow',\n",
              " 78: 'your',\n",
              " 79: 'com',\n",
              " 80: 'had',\n",
              " 81: 'think',\n",
              " 82: 'feel',\n",
              " 83: 'home',\n",
              " 84: 'only',\n",
              " 85: 'u',\n",
              " 86: 'bad',\n",
              " 87: 'he',\n",
              " 88: 'need',\n",
              " 89: 'hate',\n",
              " 90: 'new',\n",
              " 91: 'we',\n",
              " 92: 'if',\n",
              " 93: '2',\n",
              " 94: 'well',\n",
              " 95: 'more',\n",
              " 96: '3',\n",
              " 97: \"didn't\",\n",
              " 98: 'been',\n",
              " 99: 'her',\n",
              " 100: 'again',\n",
              " 101: 'can',\n",
              " 102: 'as',\n",
              " 103: 'here',\n",
              " 104: 'sick',\n",
              " 105: 'off',\n",
              " 106: 'them',\n",
              " 107: 'did',\n",
              " 108: 'wish',\n",
              " 109: 'will',\n",
              " 110: 'amp',\n",
              " 111: 'love',\n",
              " 112: 'him',\n",
              " 113: 'school',\n",
              " 114: 'though',\n",
              " 115: 'bed',\n",
              " 116: 'last',\n",
              " 117: 'lol',\n",
              " 118: 'getting',\n",
              " 119: 'tonight',\n",
              " 120: 'hope',\n",
              " 121: 'she',\n",
              " 122: \"i've\",\n",
              " 123: 'people',\n",
              " 124: 'then',\n",
              " 125: 'lost',\n",
              " 126: 'over',\n",
              " 127: 'hear',\n",
              " 128: 'find',\n",
              " 129: 'thing',\n",
              " 130: 'down',\n",
              " 131: 'better',\n",
              " 132: 'by',\n",
              " 133: 'there',\n",
              " 134: 'done',\n",
              " 135: 'week',\n",
              " 136: 'watching',\n",
              " 137: 'morning',\n",
              " 138: 'or',\n",
              " 139: 'gonna',\n",
              " 140: 'early',\n",
              " 141: \"won't\",\n",
              " 142: 'make',\n",
              " 143: 'feeling',\n",
              " 144: 'house',\n",
              " 145: 'made',\n",
              " 146: 'tired',\n",
              " 147: 'days',\n",
              " 148: 'old',\n",
              " 149: 'were',\n",
              " 150: 'hours',\n",
              " 151: 'even',\n",
              " 152: 'missed',\n",
              " 153: 'man',\n",
              " 154: 'dont',\n",
              " 155: 'show',\n",
              " 156: 'cant',\n",
              " 157: 'season',\n",
              " 158: \"doesn't\",\n",
              " 159: 'poor',\n",
              " 160: 'hey',\n",
              " 161: 'never',\n",
              " 162: 'wanna',\n",
              " 163: 'being',\n",
              " 164: 'found',\n",
              " 165: 'ugh',\n",
              " 166: 'doing',\n",
              " 167: '4',\n",
              " 168: 'haha',\n",
              " 169: 'right',\n",
              " 170: 'any',\n",
              " 171: 'hard',\n",
              " 172: 'world',\n",
              " 173: '1',\n",
              " 174: 'who',\n",
              " 175: 'away',\n",
              " 176: 'already',\n",
              " 177: 'life',\n",
              " 178: 'lt',\n",
              " 179: 'working',\n",
              " 180: 'ur',\n",
              " 181: 'should',\n",
              " 182: 'missing',\n",
              " 183: 'wait',\n",
              " 184: 'come',\n",
              " 185: 'twitter',\n",
              " 186: 'us',\n",
              " 187: 'omg',\n",
              " 188: 'could',\n",
              " 189: 'stephenkruiser',\n",
              " 190: \"that's\",\n",
              " 191: 'twitpic',\n",
              " 192: 'very',\n",
              " 193: 'his',\n",
              " 194: 'cry',\n",
              " 195: 'because',\n",
              " 196: 'long',\n",
              " 197: 'waiting',\n",
              " 198: 'take',\n",
              " 199: 'keep',\n",
              " 200: 'help',\n",
              " 201: 'gt',\n",
              " 202: 'internet',\n",
              " 203: 'might',\n",
              " 204: 'most',\n",
              " 205: 'may',\n",
              " 206: 'hour',\n",
              " 207: \"you're\",\n",
              " 208: 'sure',\n",
              " 209: 'would',\n",
              " 210: 'where',\n",
              " 211: 'phone',\n",
              " 212: 'someone',\n",
              " 213: 'those',\n",
              " 214: 'damn',\n",
              " 215: 'little',\n",
              " 216: 'yeah',\n",
              " 217: \"there's\",\n",
              " 218: 'without',\n",
              " 219: 'fun',\n",
              " 220: 'two',\n",
              " 221: 'coming',\n",
              " 222: 'whole',\n",
              " 223: 'yes',\n",
              " 224: 'watch',\n",
              " 225: 'thought',\n",
              " 226: 'always',\n",
              " 227: 'call',\n",
              " 228: 'b',\n",
              " 229: '10',\n",
              " 230: 'another',\n",
              " 231: 'heart',\n",
              " 232: 'w',\n",
              " 233: 'before',\n",
              " 234: 'tinyurl',\n",
              " 235: 'lot',\n",
              " 236: 'put',\n",
              " 237: 'ago',\n",
              " 238: 'cool',\n",
              " 239: 'such',\n",
              " 240: 'around',\n",
              " 241: 'soon',\n",
              " 242: 'start',\n",
              " 243: 'hurts',\n",
              " 244: 'yesterday',\n",
              " 245: 'year',\n",
              " 246: 'late',\n",
              " 247: 'said',\n",
              " 248: \"isn't\",\n",
              " 249: 'way',\n",
              " 250: 'yet',\n",
              " 251: 'dog',\n",
              " 252: 'dead',\n",
              " 253: 'totally',\n",
              " 254: 'news',\n",
              " 255: 'homework',\n",
              " 256: 'tweet',\n",
              " 257: 'great',\n",
              " 258: 'upset',\n",
              " 259: 'also',\n",
              " 260: 'break',\n",
              " 261: 'first',\n",
              " 262: '8',\n",
              " 263: 'myself',\n",
              " 264: 'after',\n",
              " 265: 'ok',\n",
              " 266: 'almost',\n",
              " 267: 'enough',\n",
              " 268: 'jonathanrknight',\n",
              " 269: 'asleep',\n",
              " 270: 'family',\n",
              " 271: 'happy',\n",
              " 272: 'job',\n",
              " 273: 'having',\n",
              " 274: 'tweets',\n",
              " 275: 'game',\n",
              " 276: 'please',\n",
              " 277: 'girl',\n",
              " 278: 'pain',\n",
              " 279: 'same',\n",
              " 280: 'aww',\n",
              " 281: 'crying',\n",
              " 282: 'something',\n",
              " 283: 'cold',\n",
              " 284: 'snow',\n",
              " 285: 'finish',\n",
              " 286: 'left',\n",
              " 287: 'mom',\n",
              " 288: 'free',\n",
              " 289: 'through',\n",
              " 290: 'next',\n",
              " 291: 'shit',\n",
              " 292: 'looking',\n",
              " 293: 'ever',\n",
              " 294: 'tho',\n",
              " 295: 'baby',\n",
              " 296: 'gone',\n",
              " 297: 'wants',\n",
              " 298: 'sandra',\n",
              " 299: \"i'll\",\n",
              " 300: 'awww',\n",
              " 301: 'd',\n",
              " 302: 'body',\n",
              " 303: 'spring',\n",
              " 304: 'hurt',\n",
              " 305: 'called',\n",
              " 306: 'gets',\n",
              " 307: 'story',\n",
              " 308: '5',\n",
              " 309: 'soo',\n",
              " 310: 'gotta',\n",
              " 311: 'say',\n",
              " 312: 'glad',\n",
              " 313: 'money',\n",
              " 314: 'look',\n",
              " 315: 'least',\n",
              " 316: 'throat',\n",
              " 317: 'anything',\n",
              " 318: 'stop',\n",
              " 319: 'hills',\n",
              " 320: 'party',\n",
              " 321: 'things',\n",
              " 322: 'actually',\n",
              " 323: 'behind',\n",
              " 324: 'send',\n",
              " 325: 'than',\n",
              " 326: 'kutner',\n",
              " 327: 'head',\n",
              " 328: 'broke',\n",
              " 329: 'stuff',\n",
              " 330: 'try',\n",
              " 331: 'until',\n",
              " 332: 'far',\n",
              " 333: 'chat',\n",
              " 334: 'fell',\n",
              " 335: 'trying',\n",
              " 336: 'let',\n",
              " 337: 'play',\n",
              " 338: 'went',\n",
              " 339: 'does',\n",
              " 340: 'half',\n",
              " 341: 'heidimontag',\n",
              " 342: 'many',\n",
              " 343: 'times',\n",
              " 344: \"couldn't\",\n",
              " 345: 'either',\n",
              " 346: 'anymore',\n",
              " 347: 'class',\n",
              " 348: 'ride',\n",
              " 349: 'tell',\n",
              " 350: 'ya',\n",
              " 351: 'three',\n",
              " 352: 'came',\n",
              " 353: '12',\n",
              " 354: '6',\n",
              " 355: 'study',\n",
              " 356: 'reason',\n",
              " 357: 'our',\n",
              " 358: 'few',\n",
              " 359: 'company',\n",
              " 360: 'use',\n",
              " 361: 'playing',\n",
              " 362: 'leaving',\n",
              " 363: 'sadly',\n",
              " 364: 'nice',\n",
              " 365: 'aw',\n",
              " 366: 'into',\n",
              " 367: 'sore',\n",
              " 368: 'mine',\n",
              " 369: \"she's\",\n",
              " 370: 'puppy',\n",
              " 371: 'since',\n",
              " 372: 'fail',\n",
              " 373: 'believe',\n",
              " 374: 'happened',\n",
              " 375: 'worried',\n",
              " 376: 'understand',\n",
              " 377: 'ate',\n",
              " 378: 'ass',\n",
              " 379: 'star',\n",
              " 380: 'pretty',\n",
              " 381: 'mean',\n",
              " 382: 'seriously',\n",
              " 383: 'kinda',\n",
              " 384: 'stuck',\n",
              " 385: 'crazy',\n",
              " 386: 'losing',\n",
              " 387: 'car',\n",
              " 388: 'these',\n",
              " 389: 'o',\n",
              " 390: 'stupid',\n",
              " 391: 'town',\n",
              " 392: 'weekend',\n",
              " 393: 'write',\n",
              " 394: 'fuck',\n",
              " 395: 'needs',\n",
              " 396: 'state',\n",
              " 397: 'listening',\n",
              " 398: 'everyone',\n",
              " 399: 'prayers',\n",
              " 400: 'reading',\n",
              " 401: 'horrible',\n",
              " 402: 'ready',\n",
              " 403: 'suck',\n",
              " 404: 'updates',\n",
              " 405: 'end',\n",
              " 406: 'update',\n",
              " 407: 'facebook',\n",
              " 408: 'feels',\n",
              " 409: 'mad',\n",
              " 410: 'hug',\n",
              " 411: 'bit',\n",
              " 412: 'thanks',\n",
              " 413: 'nope',\n",
              " 414: 'loss',\n",
              " 415: 'wanted',\n",
              " 416: 'wake',\n",
              " 417: 'sleeping',\n",
              " 418: 'afternoon',\n",
              " 419: 'sitting',\n",
              " 420: 'shower',\n",
              " 421: 'ill',\n",
              " 422: 'later',\n",
              " 423: 'gd',\n",
              " 424: 'kids',\n",
              " 425: 'finally',\n",
              " 426: 'means',\n",
              " 427: 'www',\n",
              " 428: 'wow',\n",
              " 429: 'site',\n",
              " 430: 'shows',\n",
              " 431: 'post',\n",
              " 432: 'rain',\n",
              " 433: 'lmao',\n",
              " 434: 'hell',\n",
              " 435: 'forever',\n",
              " 436: 'saw',\n",
              " 437: 'says',\n",
              " 438: 'terrible',\n",
              " 439: 'run',\n",
              " 440: 'hates',\n",
              " 441: 'wonder',\n",
              " 442: 'wednesday',\n",
              " 443: 'birthday',\n",
              " 444: 'headache',\n",
              " 445: 'apps',\n",
              " 446: 'easter',\n",
              " 447: 'able',\n",
              " 448: \"wasn't\",\n",
              " 449: 'favorite',\n",
              " 450: 'their',\n",
              " 451: 'laptop',\n",
              " 452: 'sooo',\n",
              " 453: 'killed',\n",
              " 454: 'cuz',\n",
              " 455: 'sucks',\n",
              " 456: 'n',\n",
              " 457: 'big',\n",
              " 458: 'longer',\n",
              " 459: 'told',\n",
              " 460: 'test',\n",
              " 461: 'win',\n",
              " 462: \"haven't\",\n",
              " 463: 'read',\n",
              " 464: '9th',\n",
              " 465: 'books',\n",
              " 466: 'breakfast',\n",
              " 467: 'hot',\n",
              " 468: 'sent',\n",
              " 469: 'awake',\n",
              " 470: \"aren't\",\n",
              " 471: 'website',\n",
              " 472: 'realized',\n",
              " 473: 'friends',\n",
              " 474: 'live',\n",
              " 475: 'trip',\n",
              " 476: 'woke',\n",
              " 477: 'making',\n",
              " 478: 'problem',\n",
              " 479: 'seen',\n",
              " 480: 'movie',\n",
              " 481: 'macbook',\n",
              " 482: 'while',\n",
              " 483: 'red',\n",
              " 484: 'forward',\n",
              " 485: 'hello',\n",
              " 486: 'wont',\n",
              " 487: 'band',\n",
              " 488: 'video',\n",
              " 489: 'confused',\n",
              " 490: 'iphone',\n",
              " 491: 'download',\n",
              " 492: 'uni',\n",
              " 493: 'excited',\n",
              " 494: 'goes',\n",
              " 495: 'figure',\n",
              " 496: 'r',\n",
              " 497: 'assignment',\n",
              " 498: 'idea',\n",
              " 499: 'cantu',\n",
              " 500: 'seem',\n",
              " 501: 'paper',\n",
              " 502: 'weeks',\n",
              " 503: 'tried',\n",
              " 504: 'maybe',\n",
              " 505: 'nick',\n",
              " 506: 'running',\n",
              " 507: 'episode',\n",
              " 508: 'weather',\n",
              " 509: 'bored',\n",
              " 510: 'apparently',\n",
              " 511: 'makes',\n",
              " 512: 'snoo',\n",
              " 513: 'best',\n",
              " 514: 'brother',\n",
              " 515: 'crap',\n",
              " 516: 'support',\n",
              " 517: 'store',\n",
              " 518: 'listen',\n",
              " 519: 'yawn',\n",
              " 520: 'care',\n",
              " 521: 'kal',\n",
              " 522: 'plurk',\n",
              " 523: 'david',\n",
              " 524: 'city',\n",
              " 525: 're',\n",
              " 526: 'talk',\n",
              " 527: 'premiere',\n",
              " 528: 'death',\n",
              " 529: 'film',\n",
              " 530: 'taxes',\n",
              " 531: 'ive',\n",
              " 532: 'friend',\n",
              " 533: 'sigh',\n",
              " 534: 'depressed',\n",
              " 535: 'account',\n",
              " 536: 'eyes',\n",
              " 537: 'spent',\n",
              " 538: 'depressing',\n",
              " 539: 'exam',\n",
              " 540: \"he's\",\n",
              " 541: 'heard',\n",
              " 542: 'less',\n",
              " 543: 'wear',\n",
              " 544: 'meeting',\n",
              " 545: 'broken',\n",
              " 546: 'taking',\n",
              " 547: 'photos',\n",
              " 548: 'online',\n",
              " 549: 'music',\n",
              " 550: 'hmmm',\n",
              " 551: '5am',\n",
              " 552: 'bill',\n",
              " 553: 'em',\n",
              " 554: 'ugly',\n",
              " 555: 'business',\n",
              " 556: 'lucky',\n",
              " 557: 'girls',\n",
              " 558: 'fml',\n",
              " 559: 'paid',\n",
              " 560: 'boo',\n",
              " 561: 'tummy',\n",
              " 562: 'babe',\n",
              " 563: 'pray',\n",
              " 564: 'ex',\n",
              " 565: 'wana',\n",
              " 566: 'ohh',\n",
              " 567: 'follow',\n",
              " 568: 'lose',\n",
              " 569: 't',\n",
              " 570: 'california',\n",
              " 571: 'serious',\n",
              " 572: 'sounds',\n",
              " 573: 'turn',\n",
              " 574: \"i'd\",\n",
              " 575: 'bedtime',\n",
              " 576: 'hopefully',\n",
              " 577: 'leavin',\n",
              " 578: 'page',\n",
              " 579: 'died',\n",
              " 580: 'coke',\n",
              " 581: 'alone',\n",
              " 582: 'thinking',\n",
              " 583: 'other',\n",
              " 584: 'check',\n",
              " 585: 'e',\n",
              " 586: 'boring',\n",
              " 587: 'french',\n",
              " 588: 'difficult',\n",
              " 589: 'guy',\n",
              " 590: 'dying',\n",
              " 591: '24',\n",
              " 592: 'guys',\n",
              " 593: 'screwed',\n",
              " 594: 'luck',\n",
              " 595: 'whack',\n",
              " 596: 'till',\n",
              " 597: 'hahaha',\n",
              " 598: 'mind',\n",
              " 599: 'canada',\n",
              " 600: \"'feet'\",\n",
              " 601: 'henrie',\n",
              " 602: 'xxx',\n",
              " 603: 'opening',\n",
              " 604: 'y',\n",
              " 605: 'eating',\n",
              " 606: 'lonely',\n",
              " 607: 'female',\n",
              " 608: 'office',\n",
              " 609: 'nothing',\n",
              " 610: 'officially',\n",
              " 611: 'john',\n",
              " 612: 'gah',\n",
              " 613: 'april',\n",
              " 614: 'jealous',\n",
              " 615: 'face',\n",
              " 616: 'youtube',\n",
              " 617: 'stay',\n",
              " 618: 'english',\n",
              " 619: 'games',\n",
              " 620: 'hotel',\n",
              " 621: 'tough',\n",
              " 622: 'list',\n",
              " 623: \"hasn't\",\n",
              " 624: 'craving',\n",
              " 625: 'doesnt',\n",
              " 626: 'php',\n",
              " 627: 'sleepy',\n",
              " 628: 'watched',\n",
              " 629: 'michigan',\n",
              " 630: 'awesome',\n",
              " 631: 'dang',\n",
              " 632: 'knew',\n",
              " 633: 'course',\n",
              " 634: 'busy',\n",
              " 635: 'years',\n",
              " 636: 'hang',\n",
              " 637: 'sat',\n",
              " 638: 'bay',\n",
              " 639: 'trek',\n",
              " 640: 'matter',\n",
              " 641: 'wtf',\n",
              " 642: 'rip',\n",
              " 643: 'meetings',\n",
              " 644: 'both',\n",
              " 645: 'carter',\n",
              " 646: 'info',\n",
              " 647: 'open',\n",
              " 648: 'yucky',\n",
              " 649: 'myspace',\n",
              " 650: 'started',\n",
              " 651: 'rolls',\n",
              " 652: 'eat',\n",
              " 653: 'tweetdeck',\n",
              " 654: 'freezing',\n",
              " 655: 'anyone',\n",
              " 656: 'definitely',\n",
              " 657: 'yea',\n",
              " 658: 'okay',\n",
              " 659: \"they've\",\n",
              " 660: 'everything',\n",
              " 661: 'chocolate',\n",
              " 662: 'lights',\n",
              " 663: 'nicolerichie',\n",
              " 664: 'ruined',\n",
              " 665: 'due',\n",
              " 666: 'others',\n",
              " 667: 'struggling',\n",
              " 668: 'which',\n",
              " 669: 'daddy',\n",
              " 670: 'considering',\n",
              " 671: 'grr',\n",
              " 672: 'rock',\n",
              " 673: 'fav',\n",
              " 674: 'turned',\n",
              " 675: 'computer',\n",
              " 676: 'exactly',\n",
              " 677: 'mac',\n",
              " 678: 'mum',\n",
              " 679: 'close',\n",
              " 680: 'cried',\n",
              " 681: 'true',\n",
              " 682: 'team',\n",
              " 683: 'minutes',\n",
              " 684: 'earthquake',\n",
              " 685: 'italy',\n",
              " 686: 'finished',\n",
              " 687: 'penn',\n",
              " 688: 'room',\n",
              " 689: 'itunes',\n",
              " 690: 'spend',\n",
              " 691: 'traffic',\n",
              " 692: 'p',\n",
              " 693: 'ref',\n",
              " 694: 'place',\n",
              " 695: 'result',\n",
              " 696: 'blah',\n",
              " 697: 'managed',\n",
              " 698: 'rest',\n",
              " 699: 'itchy',\n",
              " 700: 'fire',\n",
              " 701: 'fine',\n",
              " 702: 'idk',\n",
              " 703: 'severely',\n",
              " 704: 'cut',\n",
              " 705: 'forgotten',\n",
              " 706: 'asked',\n",
              " 707: 'meet',\n",
              " 708: 'leslie',\n",
              " 709: 'every',\n",
              " 710: 'unfornately',\n",
              " 711: 'option',\n",
              " 712: 'cause',\n",
              " 713: 'stand',\n",
              " 714: 'gym',\n",
              " 715: 'girlfriend',\n",
              " 716: 'falling',\n",
              " 717: 'tracy',\n",
              " 718: 'yay',\n",
              " 719: 'checked',\n",
              " 720: 'blackberry',\n",
              " 721: 'looks',\n",
              " 722: 'happening',\n",
              " 723: 'top',\n",
              " 724: 'tea',\n",
              " 725: 'broadband',\n",
              " 726: 'massive',\n",
              " 727: 'via',\n",
              " 728: 'tons',\n",
              " 729: 'replies',\n",
              " 730: 'chicken',\n",
              " 731: 'yrs',\n",
              " 732: 'pc',\n",
              " 733: 'forget',\n",
              " 734: 'name',\n",
              " 735: 'happens',\n",
              " 736: 'move',\n",
              " 737: 'gotten',\n",
              " 738: 'comes',\n",
              " 739: 'pay',\n",
              " 740: 'min',\n",
              " 741: 'added',\n",
              " 742: 'black',\n",
              " 743: 'socks',\n",
              " 744: 'leather',\n",
              " 745: 'shoes',\n",
              " 746: 'location',\n",
              " 747: 'smells',\n",
              " 748: 'comments',\n",
              " 749: 'mug',\n",
              " 750: 'csi',\n",
              " 751: 'saying',\n",
              " 752: 'shame',\n",
              " 753: 'useless',\n",
              " 754: 'worse',\n",
              " 755: 'fat',\n",
              " 756: 'ones',\n",
              " 757: 'fam',\n",
              " 758: 'attention',\n",
              " 759: 'covered',\n",
              " 760: 'photoshop',\n",
              " 761: 'hmm',\n",
              " 762: 'enjoy',\n",
              " 763: 'problems',\n",
              " 764: 'dogbook',\n",
              " 765: 'profile',\n",
              " 766: 'view',\n",
              " 767: 'nite',\n",
              " 768: 'spartans',\n",
              " 769: 'northern',\n",
              " 770: '15',\n",
              " 771: 'classes',\n",
              " 772: 'remember',\n",
              " 773: 'rather',\n",
              " 774: 'henkuyinepu',\n",
              " 775: 'q',\n",
              " 776: 'saddening',\n",
              " 777: 'chance',\n",
              " 778: 'pissed',\n",
              " 779: 'station',\n",
              " 780: 'mention',\n",
              " 781: 'c',\n",
              " 782: 'fan',\n",
              " 783: 'wah',\n",
              " 784: 'clip',\n",
              " 785: 'must',\n",
              " 786: 'else',\n",
              " 787: 'seems',\n",
              " 788: 'terms',\n",
              " 789: 'thecoolestout',\n",
              " 790: 'hoping',\n",
              " 791: 'notice',\n",
              " 792: 'agency',\n",
              " 793: 'thank',\n",
              " 794: 'message',\n",
              " 795: '10th',\n",
              " 796: 'guess',\n",
              " 797: 'editing',\n",
              " 798: 'probably',\n",
              " 799: 'happen',\n",
              " 800: 'pages',\n",
              " 801: 'twista202',\n",
              " 802: 'easy',\n",
              " 803: 'nokia',\n",
              " 804: 'cancer',\n",
              " 805: 'understood',\n",
              " 806: 'lame',\n",
              " 807: 'living',\n",
              " 808: 'calorie',\n",
              " 809: 'skittles',\n",
              " 810: 'cherry',\n",
              " 811: '0',\n",
              " 812: 'sweet',\n",
              " 813: 'although',\n",
              " 814: 'picked',\n",
              " 815: 'st',\n",
              " 816: 'pick',\n",
              " 817: \"a's\",\n",
              " 818: 'middle',\n",
              " 819: 'felt',\n",
              " 820: 'gosh',\n",
              " 821: 'deleted',\n",
              " 822: 'currently',\n",
              " 823: 'acting',\n",
              " 824: 'weird',\n",
              " 825: 'ho',\n",
              " 826: 'full',\n",
              " 827: 'ughh',\n",
              " 828: 'dvd',\n",
              " 829: 'deal',\n",
              " 830: 'swear',\n",
              " 831: 'gaining',\n",
              " 832: 'staying',\n",
              " 833: 'loud',\n",
              " 834: 'soooo',\n",
              " 835: 'closed',\n",
              " 836: 'downloading',\n",
              " 837: 'album',\n",
              " 838: 'written',\n",
              " 839: 'mail',\n",
              " 840: '30',\n",
              " 841: 'channels',\n",
              " 842: 'buddy',\n",
              " 843: 'clock',\n",
              " 844: 'fb',\n",
              " 845: 'spencer',\n",
              " 846: 'tonite',\n",
              " 847: 'angels',\n",
              " 848: 'mandayyy',\n",
              " 849: 'library',\n",
              " 850: 'kind',\n",
              " 851: 'bus',\n",
              " 852: \"we're\",\n",
              " 853: 'supposed',\n",
              " 854: 'shop',\n",
              " 855: \"yesterday's\",\n",
              " 856: 'sweating',\n",
              " 857: 'crash',\n",
              " 858: 'couldnt',\n",
              " 859: 'cat',\n",
              " 860: 'heat',\n",
              " 861: 'donniewahlberg',\n",
              " 862: 'thats',\n",
              " 863: 'fit',\n",
              " 864: 'congrats',\n",
              " 865: 'forgot',\n",
              " 866: 'shooting',\n",
              " 867: 'stress',\n",
              " 868: 'picture',\n",
              " 869: 'upload',\n",
              " 870: 'dunno',\n",
              " 871: 'child',\n",
              " 872: 'walk',\n",
              " 873: '2009',\n",
              " 874: 'anti',\n",
              " 875: 'tourney',\n",
              " 876: 'round',\n",
              " 877: 'bathroom',\n",
              " 878: '22',\n",
              " 879: 'celebrate',\n",
              " 880: \"'\",\n",
              " 881: 'heartbroken',\n",
              " 882: 'brent',\n",
              " 883: 'praise',\n",
              " 884: 'lead',\n",
              " 885: 'guitarist',\n",
              " 886: 'pout',\n",
              " 887: 'shout',\n",
              " 888: 'card',\n",
              " 889: 'change',\n",
              " 890: 'moneys',\n",
              " 891: 'rude',\n",
              " 892: 'bentley',\n",
              " 893: 'piece',\n",
              " 894: 'aaaaand',\n",
              " 895: 'i�m',\n",
              " 896: 'bank',\n",
              " 897: 'holiday',\n",
              " 898: 'agree',\n",
              " 899: 'link',\n",
              " 900: 'tweeted',\n",
              " 901: 'client',\n",
              " 902: 'boss',\n",
              " 903: 'text',\n",
              " 904: 'v',\n",
              " 905: 'stern',\n",
              " 906: 'bc',\n",
              " 907: 'bouts',\n",
              " 908: 'afraid',\n",
              " 909: 'code',\n",
              " 910: 'yup',\n",
              " 911: 'worst',\n",
              " 912: 'schedule',\n",
              " 913: 'arrived',\n",
              " 914: 'art',\n",
              " 915: 'ah',\n",
              " 916: 'management',\n",
              " 917: 'hopes',\n",
              " 918: 'worked',\n",
              " 919: 'wide',\n",
              " 920: 'sold',\n",
              " 921: 'poo',\n",
              " 922: 'stolen',\n",
              " 923: 'thoughts',\n",
              " 924: 'everybody',\n",
              " 925: 'stories',\n",
              " 926: 'wishing',\n",
              " 927: 'covers',\n",
              " 928: 'ep',\n",
              " 929: 'halo',\n",
              " 930: 'map',\n",
              " 931: 'pack',\n",
              " 932: 'unfortunately',\n",
              " 933: 'project',\n",
              " 934: 'annoyed',\n",
              " 935: 'easily',\n",
              " 936: 'videos',\n",
              " 937: 'grandma',\n",
              " 938: 'alot',\n",
              " 939: 'miserable',\n",
              " 940: 'rachel',\n",
              " 941: 'hubby',\n",
              " 942: 'thinks',\n",
              " 943: 'jeffree',\n",
              " 944: 'hair',\n",
              " 945: 'couple',\n",
              " 946: 'productive',\n",
              " 947: 'words',\n",
              " 948: 'downloads',\n",
              " 949: 'gamertag',\n",
              " 950: 'nonsense',\n",
              " 951: 'movies',\n",
              " 952: 'taken',\n",
              " 953: 'scratch',\n",
              " 954: 'plz',\n",
              " 955: 'geez',\n",
              " 956: 'email',\n",
              " 957: 'dark',\n",
              " 958: 'reply',\n",
              " 959: 'emotional',\n",
              " 960: 'men',\n",
              " 961: 'net',\n",
              " 962: \"you've\",\n",
              " 963: 'stock',\n",
              " 964: 'poohpot',\n",
              " 965: 'sucked',\n",
              " 966: 'doc',\n",
              " 967: \"'s\",\n",
              " 968: 'dad',\n",
              " 969: 'coach',\n",
              " 970: 'weight',\n",
              " 971: 'duchess',\n",
              " 972: 'complete',\n",
              " 973: 'works',\n",
              " 974: 'pepperoni',\n",
              " 975: 'l',\n",
              " 976: 'monday',\n",
              " 977: 'modern',\n",
              " 978: 'fingers',\n",
              " 979: 'crossed',\n",
              " 980: 'hungry',\n",
              " 981: 'once',\n",
              " 982: 'hated',\n",
              " 983: 'funny',\n",
              " 984: 'wondering',\n",
              " 985: 'steve',\n",
              " 986: 'buscemi',\n",
              " 987: 'pushing',\n",
              " 988: 'jumped',\n",
              " 989: 'shoe',\n",
              " 990: 'changed',\n",
              " 991: 'gave',\n",
              " 992: 'status',\n",
              " 993: 'buttload',\n",
              " 994: 'copy',\n",
              " 995: '2008',\n",
              " 996: 'anyway',\n",
              " 997: 'bright',\n",
              " 998: 'fish',\n",
              " 999: 'sell',\n",
              " 1000: 'remove',\n",
              " ...}"
            ]
          },
          "metadata": {},
          "execution_count": 34
        }
      ]
    },
    {
      "cell_type": "code",
      "source": [
        "# Cantidad de palabras en el vocabulario\n",
        "vocab_size = len(tok.word_counts)\n",
        "vocab_size"
      ],
      "metadata": {
        "colab": {
          "base_uri": "https://localhost:8080/"
        },
        "id": "a9uscMZWsSsf",
        "outputId": "1372b44c-824b-478a-e132-aa57f5d03567"
      },
      "execution_count": 35,
      "outputs": [
        {
          "output_type": "execute_result",
          "data": {
            "text/plain": [
              "3477"
            ]
          },
          "metadata": {},
          "execution_count": 35
        }
      ]
    },
    {
      "cell_type": "code",
      "source": [
        "tok"
      ],
      "metadata": {
        "colab": {
          "base_uri": "https://localhost:8080/"
        },
        "id": "SXiQPIp36zj5",
        "outputId": "c70144e2-9c4b-4aed-c249-0918ceca23be"
      },
      "execution_count": 36,
      "outputs": [
        {
          "output_type": "execute_result",
          "data": {
            "text/plain": [
              "<keras.preprocessing.text.Tokenizer at 0x7fd7c50c1a30>"
            ]
          },
          "metadata": {},
          "execution_count": 36
        }
      ]
    },
    {
      "cell_type": "code",
      "source": [
        "y_data_int_offset = y_data_int - 1\n",
        "y_data = to_categorical(y_data_int_offset, num_classes=vocab_size) \n",
        "y_data.shape"
      ],
      "metadata": {
        "colab": {
          "base_uri": "https://localhost:8080/"
        },
        "id": "dysRedXmsbQl",
        "outputId": "6e4c3ae7-5c3f-4ccc-9961-7f50a1045dbe"
      },
      "execution_count": 37,
      "outputs": [
        {
          "output_type": "execute_result",
          "data": {
            "text/plain": [
              "(13771, 3477)"
            ]
          },
          "metadata": {},
          "execution_count": 37
        }
      ]
    },
    {
      "cell_type": "markdown",
      "source": [
        "Training"
      ],
      "metadata": {
        "id": "fRf_J1oyscqY"
      }
    },
    {
      "cell_type": "code",
      "source": [
        "# largo de la secuencia de entrada\n",
        "input_seq_len = x_data.shape[1] \n",
        "input_seq_len"
      ],
      "metadata": {
        "colab": {
          "base_uri": "https://localhost:8080/"
        },
        "id": "I_AOspflsCYU",
        "outputId": "06d66e6f-fa84-44e8-85f5-b2593399943a"
      },
      "execution_count": 38,
      "outputs": [
        {
          "output_type": "execute_result",
          "data": {
            "text/plain": [
              "14"
            ]
          },
          "metadata": {},
          "execution_count": 38
        }
      ]
    },
    {
      "cell_type": "code",
      "source": [
        "# Largo del vector de salida --> vocab_size\n",
        "output_size = vocab_size\n",
        "output_size"
      ],
      "metadata": {
        "colab": {
          "base_uri": "https://localhost:8080/"
        },
        "id": "Q-u0W8odsfng",
        "outputId": "b5d97143-58af-422d-8baa-87202d7ed957"
      },
      "execution_count": 39,
      "outputs": [
        {
          "output_type": "execute_result",
          "data": {
            "text/plain": [
              "3477"
            ]
          },
          "metadata": {},
          "execution_count": 39
        }
      ]
    },
    {
      "cell_type": "code",
      "source": [
        "model = Sequential()\n",
        "\n",
        "# Embedding:\n",
        "# input_seq_len = 3 --> ingreso 3 palabras\n",
        "# input_dim = vocab_size --> 1628 palabras distintas\n",
        "# output_dim = 5 --> crear embeddings de tamaño 3 (tamaño variable y ajustable)\n",
        "model.add(Embedding(input_dim=vocab_size+1, output_dim=5, input_length=input_seq_len))\n",
        "\n",
        "model.add(LSTM(32, return_sequences=True))\n",
        "model.add(Dropout(0.2))\n",
        "model.add(LSTM(32)) # La última capa LSTM no lleva return_sequences\n",
        "model.add(Dense(16, activation='relu'))\n",
        "\n",
        "# Predicción de clasificación con softmax\n",
        "# La salida vuelve al espacio de 1628 palabras posibles\n",
        "model.add(Dense(vocab_size, activation='softmax'))\n",
        "\n",
        "# Clasificación multiple categórica --> loss = categorical_crossentropy\n",
        "model.compile(loss='categorical_crossentropy', optimizer='adam', metrics=['accuracy'])\n",
        "\n",
        "model.summary()"
      ],
      "metadata": {
        "colab": {
          "base_uri": "https://localhost:8080/"
        },
        "id": "_JuNRVngsgs6",
        "outputId": "a7be86e8-1333-4a14-e1ae-ecf8eb2441ee"
      },
      "execution_count": 47,
      "outputs": [
        {
          "output_type": "stream",
          "name": "stdout",
          "text": [
            "Model: \"sequential_1\"\n",
            "_________________________________________________________________\n",
            " Layer (type)                Output Shape              Param #   \n",
            "=================================================================\n",
            " embedding_1 (Embedding)     (None, 14, 5)             17390     \n",
            "                                                                 \n",
            " lstm_2 (LSTM)               (None, 14, 32)            4864      \n",
            "                                                                 \n",
            " dropout_1 (Dropout)         (None, 14, 32)            0         \n",
            "                                                                 \n",
            " lstm_3 (LSTM)               (None, 32)                8320      \n",
            "                                                                 \n",
            " dense_2 (Dense)             (None, 16)                528       \n",
            "                                                                 \n",
            " dense_3 (Dense)             (None, 3477)              59109     \n",
            "                                                                 \n",
            "=================================================================\n",
            "Total params: 90,211\n",
            "Trainable params: 90,211\n",
            "Non-trainable params: 0\n",
            "_________________________________________________________________\n"
          ]
        }
      ]
    },
    {
      "cell_type": "code",
      "source": [
        "hist = model.fit(x_data, y_data, epochs=50, validation_split=0.2)"
      ],
      "metadata": {
        "colab": {
          "base_uri": "https://localhost:8080/"
        },
        "id": "mo5OUYXzsikx",
        "outputId": "1a16b933-148e-4b78-c6be-b83cde6fb31f"
      },
      "execution_count": 48,
      "outputs": [
        {
          "output_type": "stream",
          "name": "stdout",
          "text": [
            "Epoch 1/50\n",
            "345/345 [==============================] - 13s 26ms/step - loss: 7.1402 - accuracy: 0.0392 - val_loss: 7.0994 - val_accuracy: 0.0417\n",
            "Epoch 2/50\n",
            "345/345 [==============================] - 8s 23ms/step - loss: 6.7139 - accuracy: 0.0431 - val_loss: 7.2417 - val_accuracy: 0.0417\n",
            "Epoch 3/50\n",
            "345/345 [==============================] - 8s 23ms/step - loss: 6.6570 - accuracy: 0.0431 - val_loss: 7.3191 - val_accuracy: 0.0417\n",
            "Epoch 4/50\n",
            "345/345 [==============================] - 8s 23ms/step - loss: 6.5790 - accuracy: 0.0431 - val_loss: 7.3091 - val_accuracy: 0.0417\n",
            "Epoch 5/50\n",
            "345/345 [==============================] - 8s 23ms/step - loss: 6.5236 - accuracy: 0.0431 - val_loss: 7.3896 - val_accuracy: 0.0417\n",
            "Epoch 6/50\n",
            "345/345 [==============================] - 8s 23ms/step - loss: 6.4681 - accuracy: 0.0431 - val_loss: 7.5494 - val_accuracy: 0.0417\n",
            "Epoch 7/50\n",
            "345/345 [==============================] - 8s 23ms/step - loss: 6.4137 - accuracy: 0.0431 - val_loss: 7.5161 - val_accuracy: 0.0417\n",
            "Epoch 8/50\n",
            "345/345 [==============================] - 8s 23ms/step - loss: 6.3600 - accuracy: 0.0431 - val_loss: 7.6573 - val_accuracy: 0.0417\n",
            "Epoch 9/50\n",
            "345/345 [==============================] - 8s 23ms/step - loss: 6.2999 - accuracy: 0.0429 - val_loss: 7.7668 - val_accuracy: 0.0414\n",
            "Epoch 10/50\n",
            "345/345 [==============================] - 8s 23ms/step - loss: 6.2362 - accuracy: 0.0471 - val_loss: 7.9072 - val_accuracy: 0.0399\n",
            "Epoch 11/50\n",
            "345/345 [==============================] - 8s 23ms/step - loss: 6.1704 - accuracy: 0.0481 - val_loss: 8.0244 - val_accuracy: 0.0345\n",
            "Epoch 12/50\n",
            "345/345 [==============================] - 8s 24ms/step - loss: 6.1123 - accuracy: 0.0490 - val_loss: 8.2133 - val_accuracy: 0.0330\n",
            "Epoch 13/50\n",
            "345/345 [==============================] - 8s 24ms/step - loss: 6.0510 - accuracy: 0.0477 - val_loss: 8.4520 - val_accuracy: 0.0345\n",
            "Epoch 14/50\n",
            "345/345 [==============================] - 8s 23ms/step - loss: 5.9930 - accuracy: 0.0502 - val_loss: 8.3913 - val_accuracy: 0.0348\n",
            "Epoch 15/50\n",
            "345/345 [==============================] - 8s 23ms/step - loss: 5.9397 - accuracy: 0.0518 - val_loss: 8.6424 - val_accuracy: 0.0363\n",
            "Epoch 16/50\n",
            "345/345 [==============================] - 8s 23ms/step - loss: 5.8927 - accuracy: 0.0500 - val_loss: 8.7737 - val_accuracy: 0.0341\n",
            "Epoch 17/50\n",
            "345/345 [==============================] - 8s 24ms/step - loss: 5.8361 - accuracy: 0.0509 - val_loss: 9.0534 - val_accuracy: 0.0316\n",
            "Epoch 18/50\n",
            "345/345 [==============================] - 8s 24ms/step - loss: 5.7753 - accuracy: 0.0509 - val_loss: 9.4509 - val_accuracy: 0.0319\n",
            "Epoch 19/50\n",
            "345/345 [==============================] - 8s 23ms/step - loss: 5.7235 - accuracy: 0.0526 - val_loss: 9.3017 - val_accuracy: 0.0334\n",
            "Epoch 20/50\n",
            "345/345 [==============================] - 8s 23ms/step - loss: 5.6741 - accuracy: 0.0545 - val_loss: 9.7273 - val_accuracy: 0.0298\n",
            "Epoch 21/50\n",
            "345/345 [==============================] - 8s 23ms/step - loss: 5.6358 - accuracy: 0.0525 - val_loss: 9.6777 - val_accuracy: 0.0294\n",
            "Epoch 22/50\n",
            "345/345 [==============================] - 8s 23ms/step - loss: 5.5920 - accuracy: 0.0543 - val_loss: 9.8198 - val_accuracy: 0.0283\n",
            "Epoch 23/50\n",
            "345/345 [==============================] - 8s 23ms/step - loss: 5.5525 - accuracy: 0.0559 - val_loss: 10.0518 - val_accuracy: 0.0301\n",
            "Epoch 24/50\n",
            "345/345 [==============================] - 8s 23ms/step - loss: 5.5214 - accuracy: 0.0567 - val_loss: 10.1922 - val_accuracy: 0.0279\n",
            "Epoch 25/50\n",
            "345/345 [==============================] - 8s 23ms/step - loss: 5.4838 - accuracy: 0.0576 - val_loss: 10.4820 - val_accuracy: 0.0258\n",
            "Epoch 26/50\n",
            "345/345 [==============================] - 9s 25ms/step - loss: 5.4496 - accuracy: 0.0586 - val_loss: 10.7090 - val_accuracy: 0.0254\n",
            "Epoch 27/50\n",
            "345/345 [==============================] - 12s 35ms/step - loss: 5.4185 - accuracy: 0.0604 - val_loss: 10.9352 - val_accuracy: 0.0258\n",
            "Epoch 28/50\n",
            "345/345 [==============================] - 8s 23ms/step - loss: 5.3808 - accuracy: 0.0629 - val_loss: 10.9892 - val_accuracy: 0.0243\n",
            "Epoch 29/50\n",
            "345/345 [==============================] - 8s 23ms/step - loss: 5.3527 - accuracy: 0.0645 - val_loss: 10.8596 - val_accuracy: 0.0225\n",
            "Epoch 30/50\n",
            "345/345 [==============================] - 8s 22ms/step - loss: 5.3134 - accuracy: 0.0638 - val_loss: 11.3633 - val_accuracy: 0.0236\n",
            "Epoch 31/50\n",
            "345/345 [==============================] - 8s 23ms/step - loss: 5.2843 - accuracy: 0.0639 - val_loss: 11.5866 - val_accuracy: 0.0221\n",
            "Epoch 32/50\n",
            "345/345 [==============================] - 8s 23ms/step - loss: 5.2414 - accuracy: 0.0665 - val_loss: 11.8050 - val_accuracy: 0.0276\n",
            "Epoch 33/50\n",
            "345/345 [==============================] - 8s 23ms/step - loss: 5.2104 - accuracy: 0.0656 - val_loss: 11.9617 - val_accuracy: 0.0258\n",
            "Epoch 34/50\n",
            "345/345 [==============================] - 8s 23ms/step - loss: 5.1840 - accuracy: 0.0684 - val_loss: 12.3052 - val_accuracy: 0.0240\n",
            "Epoch 35/50\n",
            "345/345 [==============================] - 8s 23ms/step - loss: 5.1455 - accuracy: 0.0704 - val_loss: 12.2331 - val_accuracy: 0.0207\n",
            "Epoch 36/50\n",
            "345/345 [==============================] - 8s 24ms/step - loss: 5.1083 - accuracy: 0.0717 - val_loss: 12.3997 - val_accuracy: 0.0225\n",
            "Epoch 37/50\n",
            "345/345 [==============================] - 8s 23ms/step - loss: 5.0727 - accuracy: 0.0709 - val_loss: 12.5493 - val_accuracy: 0.0207\n",
            "Epoch 38/50\n",
            "345/345 [==============================] - 8s 23ms/step - loss: 5.0399 - accuracy: 0.0728 - val_loss: 12.7599 - val_accuracy: 0.0200\n",
            "Epoch 39/50\n",
            "345/345 [==============================] - 8s 23ms/step - loss: 5.0175 - accuracy: 0.0713 - val_loss: 13.2583 - val_accuracy: 0.0240\n",
            "Epoch 40/50\n",
            "345/345 [==============================] - 8s 24ms/step - loss: 4.9802 - accuracy: 0.0751 - val_loss: 13.4268 - val_accuracy: 0.0221\n",
            "Epoch 41/50\n",
            "345/345 [==============================] - 8s 24ms/step - loss: 4.9482 - accuracy: 0.0780 - val_loss: 13.6409 - val_accuracy: 0.0192\n",
            "Epoch 42/50\n",
            "345/345 [==============================] - 8s 23ms/step - loss: 4.9152 - accuracy: 0.0773 - val_loss: 13.8776 - val_accuracy: 0.0211\n",
            "Epoch 43/50\n",
            "345/345 [==============================] - 8s 23ms/step - loss: 4.8857 - accuracy: 0.0782 - val_loss: 14.3948 - val_accuracy: 0.0207\n",
            "Epoch 44/50\n",
            "345/345 [==============================] - 8s 24ms/step - loss: 4.8635 - accuracy: 0.0764 - val_loss: 14.2783 - val_accuracy: 0.0189\n",
            "Epoch 45/50\n",
            "345/345 [==============================] - 8s 24ms/step - loss: 4.8365 - accuracy: 0.0787 - val_loss: 14.5418 - val_accuracy: 0.0196\n",
            "Epoch 46/50\n",
            "345/345 [==============================] - 8s 24ms/step - loss: 4.8137 - accuracy: 0.0783 - val_loss: 14.6924 - val_accuracy: 0.0200\n",
            "Epoch 47/50\n",
            "345/345 [==============================] - 8s 25ms/step - loss: 4.7809 - accuracy: 0.0792 - val_loss: 15.1059 - val_accuracy: 0.0200\n",
            "Epoch 48/50\n",
            "345/345 [==============================] - 8s 24ms/step - loss: 4.7536 - accuracy: 0.0809 - val_loss: 15.2097 - val_accuracy: 0.0200\n",
            "Epoch 49/50\n",
            "345/345 [==============================] - 8s 23ms/step - loss: 4.7297 - accuracy: 0.0839 - val_loss: 15.7381 - val_accuracy: 0.0174\n",
            "Epoch 50/50\n",
            "345/345 [==============================] - 8s 23ms/step - loss: 4.7127 - accuracy: 0.0846 - val_loss: 15.7742 - val_accuracy: 0.0181\n"
          ]
        }
      ]
    },
    {
      "cell_type": "markdown",
      "source": [
        "Gráfico"
      ],
      "metadata": {
        "id": "LsEoRaOxsmqf"
      }
    },
    {
      "cell_type": "code",
      "source": [
        "import matplotlib.pyplot as plt\n",
        "import seaborn as sns\n",
        "\n",
        "# Entrenamiento\n",
        "epoch_count = range(1, len(hist.history['accuracy']) + 1)\n",
        "sns.lineplot(x=epoch_count,  y=hist.history['accuracy'], label='train')\n",
        "sns.lineplot(x=epoch_count,  y=hist.history['val_accuracy'], label='valid')\n",
        "plt.show()"
      ],
      "metadata": {
        "colab": {
          "base_uri": "https://localhost:8080/",
          "height": 265
        },
        "id": "5qBRBbqcskI8",
        "outputId": "e102006e-f49f-4e83-fb36-5927aba7891c"
      },
      "execution_count": 49,
      "outputs": [
        {
          "output_type": "display_data",
          "data": {
            "text/plain": [
              "<Figure size 432x288 with 1 Axes>"
            ],
            "image/png": "[encoded data removed]"
          },
          "metadata": {
            "needs_background": "light"
          }
        }
      ]
    },
    {
      "cell_type": "markdown",
      "source": [
        "Predicción próxima palabra"
      ],
      "metadata": {
        "id": "MiXk2JBWssFM"
      }
    },
    {
      "cell_type": "code",
      "source": [
        "import sys\n",
        "!{sys.executable} -m pip install gradio --quiet"
      ],
      "metadata": {
        "id": "_5yaEcBxsoB2"
      },
      "execution_count": 45,
      "outputs": []
    },
    {
      "cell_type": "code",
      "source": [
        "import gradio as gr\n",
        "\n",
        "def model_response(human_text):\n",
        "\n",
        "    # Encodeamos\n",
        "    encoded = tok.texts_to_sequences([human_text])[0]\n",
        "    # Si tienen distinto largo\n",
        "    encoded = pad_sequences([encoded], maxlen=14, padding='pre')\n",
        "    \n",
        "    # Predicción softmax\n",
        "    y_hat = model.predict(encoded).argmax(axis=-1)\n",
        "\n",
        "    # Debemos buscar en el vocabulario la palabra\n",
        "    # que corresopnde al indice (y_hat) predicho por le modelo\n",
        "    out_word = ''\n",
        "    for word, index in tok.word_index.items():\n",
        "        if index == y_hat:\n",
        "            out_word = word\n",
        "            break\n",
        "\n",
        "    # Agrego la palabra a la frase predicha\n",
        "    return human_text + ' ' + out_word\n",
        "\n",
        "iface = gr.Interface(\n",
        "    fn=model_response,\n",
        "    inputs=[\"textbox\"],\n",
        "    outputs=\"text\",\n",
        "    layout=\"vertical\")\n",
        "\n",
        "iface.launch(debug=True)"
      ],
      "metadata": {
        "colab": {
          "base_uri": "https://localhost:8080/",
          "height": 706
        },
        "id": "JISwrfFRstsJ",
        "outputId": "83f97ea1-7b9a-4f08-90bd-189cde56c434"
      },
      "execution_count": 46,
      "outputs": [
        {
          "output_type": "stream",
          "name": "stderr",
          "text": [
            "/usr/local/lib/python3.8/dist-packages/gradio/deprecation.py:40: UserWarning: `layout` parameter is deprecated, and it has no effect\n",
            "  warnings.warn(value)\n"
          ]
        },
        {
          "output_type": "stream",
          "name": "stdout",
          "text": [
            "Colab notebook detected. This cell will run indefinitely so that you can see errors and logs. To turn off, set debug=False in launch().\n",
            "Note: opening Chrome Inspector may crash demo inside Colab notebooks.\n",
            "\n",
            "To create a public link, set `share=True` in `launch()`.\n"
          ]
        },
        {
          "output_type": "display_data",
          "data": {
            "text/plain": [
              "<IPython.core.display.Javascript object>"
            ],
            "application/javascript": [
              "(async (port, path, width, height, cache, element) => {\n",
              "                        if (!google.colab.kernel.accessAllowed && !cache) {\n",
              "                            return;\n",
              "                        }\n",
              "                        element.appendChild(document.createTextNode(''));\n",
              "                        const url = await google.colab.kernel.proxyPort(port, {cache});\n",
              "\n",
              "                        const external_link = document.createElement('div');\n",
              "                        external_link.innerHTML = `\n",
              "                            <div style=\"font-family: monospace; margin-bottom: 0.5rem\">\n",
              "                                Running on <a href=${new URL(path, url).toString()} target=\"_blank\">\n",
              "                                    https://localhost:${port}${path}\n",
              "                                </a>\n",
              "                            </div>\n",
              "                        `;\n",
              "                        element.appendChild(external_link);\n",
              "\n",
              "                        const iframe = document.createElement('iframe');\n",
              "                        iframe.src = new URL(path, url).toString();\n",
              "                        iframe.height = height;\n",
              "                        iframe.allow = \"autoplay; camera; microphone; clipboard-read; clipboard-write;\"\n",
              "                        iframe.width = width;\n",
              "                        iframe.style.border = 0;\n",
              "                        element.appendChild(iframe);\n",
              "                    })(7860, \"/\", \"100%\", 500, false, window.element)"
            ]
          },
          "metadata": {}
        },
        {
          "output_type": "stream",
          "name": "stdout",
          "text": [
            "1/1 [==============================] - 2s 2s/step\n",
            "1/1 [==============================] - 0s 21ms/step\n",
            "Keyboard interruption in main thread... closing server.\n"
          ]
        },
        {
          "output_type": "execute_result",
          "data": {
            "text/plain": []
          },
          "metadata": {},
          "execution_count": 46
        }
      ]
    }
  ]
}